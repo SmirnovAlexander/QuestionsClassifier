{
 "cells": [
  {
   "cell_type": "code",
   "execution_count": 34,
   "id": "negative-parameter",
   "metadata": {},
   "outputs": [],
   "source": [
    "from xgboost import XGBClassifier"
   ]
  },
  {
   "cell_type": "code",
   "execution_count": 1,
   "id": "funded-recruitment",
   "metadata": {},
   "outputs": [],
   "source": [
    "from pprint import pprint\n",
    "from tqdm import tqdm\n",
    "import re\n",
    "import string\n",
    "import numpy as np\n",
    "import pandas as pd\n",
    "import matplotlib.pyplot as plt\n",
    "\n",
    "from sklearn.metrics import accuracy_score, roc_auc_score\n",
    "\n",
    "from sklearn.model_selection import train_test_split\n",
    "from sklearn.model_selection import GridSearchCV\n",
    "\n",
    "from sklearn.pipeline import make_pipeline\n",
    "from sklearn.feature_extraction.text import TfidfVectorizer\n",
    "from sklearn.linear_model import LogisticRegression\n",
    "\n",
    "from sklearn.base import BaseEstimator\n",
    "from sklearn.base import ClassifierMixin\n",
    "from sklearn.utils.multiclass import unique_labels\n",
    "\n",
    "pd.set_option('display.max_colwidth', None)"
   ]
  },
  {
   "cell_type": "raw",
   "id": "copyrighted-browse",
   "metadata": {},
   "source": [
    "from imblearn.pipeline import make_pipeline"
   ]
  },
  {
   "cell_type": "raw",
   "id": "eleven-basket",
   "metadata": {},
   "source": [
    "from imblearn.over_sampling import RandomOverSampler"
   ]
  },
  {
   "cell_type": "raw",
   "id": "rural-potential",
   "metadata": {},
   "source": [
    "from sklearn.preprocessing import FunctionTransformer"
   ]
  },
  {
   "cell_type": "markdown",
   "id": "fitted-feature",
   "metadata": {},
   "source": [
    "# Loading data"
   ]
  },
  {
   "cell_type": "code",
   "execution_count": 2,
   "id": "retained-fight",
   "metadata": {},
   "outputs": [],
   "source": [
    "questions = pd.read_csv(\"./data/data.csv\", delimiter=\";\")\n",
    "answers = pd.read_csv(\"./data/train.csv\", delimiter=\";\")"
   ]
  },
  {
   "cell_type": "code",
   "execution_count": 3,
   "id": "engaging-uruguay",
   "metadata": {},
   "outputs": [],
   "source": [
    "data = pd.merge(questions, answers, on=\"ID\")"
   ]
  },
  {
   "cell_type": "code",
   "execution_count": 4,
   "id": "czech-marine",
   "metadata": {},
   "outputs": [],
   "source": [
    "data[\"Question\"] = data[\"Question\"].astype(\"string\")"
   ]
  },
  {
   "cell_type": "markdown",
   "id": "actual-convention",
   "metadata": {},
   "source": [
    "# Analyzing data"
   ]
  },
  {
   "cell_type": "code",
   "execution_count": 5,
   "id": "educated-glasgow",
   "metadata": {},
   "outputs": [
    {
     "name": "stdout",
     "output_type": "stream",
     "text": [
      "(30000, 3)\n"
     ]
    }
   ],
   "source": [
    "print(data.shape)"
   ]
  },
  {
   "cell_type": "code",
   "execution_count": 6,
   "id": "immediate-companion",
   "metadata": {},
   "outputs": [
    {
     "data": {
      "image/png": "[encoded data removed]",
      "text/plain": [
       "<Figure size 432x288 with 1 Axes>"
      ]
     },
     "metadata": {
      "needs_background": "light"
     },
     "output_type": "display_data"
    }
   ],
   "source": [
    "plt.grid(True)\n",
    "plt.hist(data[\"Answer\"])\n",
    "plt.show()"
   ]
  },
  {
   "cell_type": "code",
   "execution_count": 7,
   "id": "figured-citizen",
   "metadata": {},
   "outputs": [
    {
     "data": {
      "text/html": [
       "<div>\n",
       "<style scoped>\n",
       "    .dataframe tbody tr th:only-of-type {\n",
       "        vertical-align: middle;\n",
       "    }\n",
       "\n",
       "    .dataframe tbody tr th {\n",
       "        vertical-align: top;\n",
       "    }\n",
       "\n",
       "    .dataframe thead th {\n",
       "        text-align: right;\n",
       "    }\n",
       "</style>\n",
       "<table border=\"1\" class=\"dataframe\">\n",
       "  <thead>\n",
       "    <tr style=\"text-align: right;\">\n",
       "      <th></th>\n",
       "      <th>ID</th>\n",
       "      <th>Question</th>\n",
       "      <th>Answer</th>\n",
       "    </tr>\n",
       "  </thead>\n",
       "  <tbody>\n",
       "    <tr>\n",
       "      <th>1</th>\n",
       "      <td>2</td>\n",
       "      <td>Как в химии обозначается свинец?</td>\n",
       "      <td>1</td>\n",
       "    </tr>\n",
       "    <tr>\n",
       "      <th>5</th>\n",
       "      <td>6</td>\n",
       "      <td>Какая эра геологической истории Земли относится к настоящему времени?</td>\n",
       "      <td>1</td>\n",
       "    </tr>\n",
       "    <tr>\n",
       "      <th>8</th>\n",
       "      <td>9</td>\n",
       "      <td>Какой из этих мультфильмов повествует о реально существовавшей собаке?</td>\n",
       "      <td>1</td>\n",
       "    </tr>\n",
       "    <tr>\n",
       "      <th>20</th>\n",
       "      <td>21</td>\n",
       "      <td>Как называется часть речи, обладающая свойствами глагола и прилагательного?</td>\n",
       "      <td>1</td>\n",
       "    </tr>\n",
       "    <tr>\n",
       "      <th>22</th>\n",
       "      <td>23</td>\n",
       "      <td>Когда была запущена «Википедия»?</td>\n",
       "      <td>1</td>\n",
       "    </tr>\n",
       "    <tr>\n",
       "      <th>41</th>\n",
       "      <td>42</td>\n",
       "      <td>Где находится яд у кобры?</td>\n",
       "      <td>1</td>\n",
       "    </tr>\n",
       "    <tr>\n",
       "      <th>45</th>\n",
       "      <td>46</td>\n",
       "      <td>Как зовут создателя паровой машины?</td>\n",
       "      <td>1</td>\n",
       "    </tr>\n",
       "    <tr>\n",
       "      <th>48</th>\n",
       "      <td>49</td>\n",
       "      <td>Сколько всего пальцев на лапах у кошек?</td>\n",
       "      <td>1</td>\n",
       "    </tr>\n",
       "    <tr>\n",
       "      <th>63</th>\n",
       "      <td>64</td>\n",
       "      <td>Сколько всего было выпущено серий сериала «Санта-Барбара»?</td>\n",
       "      <td>1</td>\n",
       "    </tr>\n",
       "    <tr>\n",
       "      <th>64</th>\n",
       "      <td>65</td>\n",
       "      <td>В каком году был поход Руси на Константинополь?</td>\n",
       "      <td>1</td>\n",
       "    </tr>\n",
       "  </tbody>\n",
       "</table>\n",
       "</div>"
      ],
      "text/plain": [
       "    ID  \\\n",
       "1    2   \n",
       "5    6   \n",
       "8    9   \n",
       "20  21   \n",
       "22  23   \n",
       "41  42   \n",
       "45  46   \n",
       "48  49   \n",
       "63  64   \n",
       "64  65   \n",
       "\n",
       "                                                                       Question  \\\n",
       "1                                              Как в химии обозначается свинец?   \n",
       "5         Какая эра геологической истории Земли относится к настоящему времени?   \n",
       "8        Какой из этих мультфильмов повествует о реально существовавшей собаке?   \n",
       "20  Как называется часть речи, обладающая свойствами глагола и прилагательного?   \n",
       "22                                             Когда была запущена «Википедия»?   \n",
       "41                                                    Где находится яд у кобры?   \n",
       "45                                          Как зовут создателя паровой машины?   \n",
       "48                                      Сколько всего пальцев на лапах у кошек?   \n",
       "63                   Сколько всего было выпущено серий сериала «Санта-Барбара»?   \n",
       "64                              В каком году был поход Руси на Константинополь?   \n",
       "\n",
       "    Answer  \n",
       "1        1  \n",
       "5        1  \n",
       "8        1  \n",
       "20       1  \n",
       "22       1  \n",
       "41       1  \n",
       "45       1  \n",
       "48       1  \n",
       "63       1  \n",
       "64       1  "
      ]
     },
     "metadata": {},
     "output_type": "display_data"
    }
   ],
   "source": [
    "display(data[data[\"Answer\"] == 1].iloc[:10])"
   ]
  },
  {
   "cell_type": "code",
   "execution_count": 8,
   "id": "norman-calvin",
   "metadata": {},
   "outputs": [
    {
     "data": {
      "text/html": [
       "<div>\n",
       "<style scoped>\n",
       "    .dataframe tbody tr th:only-of-type {\n",
       "        vertical-align: middle;\n",
       "    }\n",
       "\n",
       "    .dataframe tbody tr th {\n",
       "        vertical-align: top;\n",
       "    }\n",
       "\n",
       "    .dataframe thead th {\n",
       "        text-align: right;\n",
       "    }\n",
       "</style>\n",
       "<table border=\"1\" class=\"dataframe\">\n",
       "  <thead>\n",
       "    <tr style=\"text-align: right;\">\n",
       "      <th></th>\n",
       "      <th>ID</th>\n",
       "      <th>Question</th>\n",
       "      <th>Answer</th>\n",
       "    </tr>\n",
       "  </thead>\n",
       "  <tbody>\n",
       "    <tr>\n",
       "      <th>0</th>\n",
       "      <td>1</td>\n",
       "      <td>Как зовут лодочника на реке Стикс в древнегреческой мифологии?</td>\n",
       "      <td>0</td>\n",
       "    </tr>\n",
       "    <tr>\n",
       "      <th>2</th>\n",
       "      <td>3</td>\n",
       "      <td>Какой химический элемент преобладает в составе каменного угля?</td>\n",
       "      <td>0</td>\n",
       "    </tr>\n",
       "    <tr>\n",
       "      <th>3</th>\n",
       "      <td>4</td>\n",
       "      <td>Кто из перечисленных был пажом во времена Екатерины II?</td>\n",
       "      <td>0</td>\n",
       "    </tr>\n",
       "    <tr>\n",
       "      <th>4</th>\n",
       "      <td>5</td>\n",
       "      <td>Когда началась 2 мировая война?</td>\n",
       "      <td>0</td>\n",
       "    </tr>\n",
       "    <tr>\n",
       "      <th>6</th>\n",
       "      <td>7</td>\n",
       "      <td>Кто из животных может мурлыкать?</td>\n",
       "      <td>0</td>\n",
       "    </tr>\n",
       "    <tr>\n",
       "      <th>7</th>\n",
       "      <td>8</td>\n",
       "      <td>Что из перечисленного НЕ входит в национальную русскую кухню?</td>\n",
       "      <td>0</td>\n",
       "    </tr>\n",
       "    <tr>\n",
       "      <th>9</th>\n",
       "      <td>10</td>\n",
       "      <td>Кто написал повесть «Муму»</td>\n",
       "      <td>0</td>\n",
       "    </tr>\n",
       "    <tr>\n",
       "      <th>10</th>\n",
       "      <td>11</td>\n",
       "      <td>Что такое кульверт?</td>\n",
       "      <td>0</td>\n",
       "    </tr>\n",
       "    <tr>\n",
       "      <th>11</th>\n",
       "      <td>12</td>\n",
       "      <td>В какой воде меньше содержание примесей?</td>\n",
       "      <td>0</td>\n",
       "    </tr>\n",
       "    <tr>\n",
       "      <th>12</th>\n",
       "      <td>13</td>\n",
       "      <td>Сколько музыкантов в квинтете</td>\n",
       "      <td>0</td>\n",
       "    </tr>\n",
       "  </tbody>\n",
       "</table>\n",
       "</div>"
      ],
      "text/plain": [
       "    ID                                                        Question  Answer\n",
       "0    1  Как зовут лодочника на реке Стикс в древнегреческой мифологии?       0\n",
       "2    3  Какой химический элемент преобладает в составе каменного угля?       0\n",
       "3    4         Кто из перечисленных был пажом во времена Екатерины II?       0\n",
       "4    5                                 Когда началась 2 мировая война?       0\n",
       "6    7                                Кто из животных может мурлыкать?       0\n",
       "7    8   Что из перечисленного НЕ входит в национальную русскую кухню?       0\n",
       "9   10                                      Кто написал повесть «Муму»       0\n",
       "10  11                                             Что такое кульверт?       0\n",
       "11  12                        В какой воде меньше содержание примесей?       0\n",
       "12  13                                   Сколько музыкантов в квинтете       0"
      ]
     },
     "metadata": {},
     "output_type": "display_data"
    }
   ],
   "source": [
    "display(data[data[\"Answer\"] == 0].iloc[:10])"
   ]
  },
  {
   "cell_type": "code",
   "execution_count": 9,
   "id": "hawaiian-thompson",
   "metadata": {},
   "outputs": [],
   "source": [
    "X = data[\"Question\"].to_numpy()\n",
    "y = data[\"Answer\"].to_numpy()"
   ]
  },
  {
   "cell_type": "raw",
   "id": "european-acquisition",
   "metadata": {},
   "source": [
    "X = X.reshape(-1, 1)\n",
    "y = y.reshape(-1, 1)"
   ]
  },
  {
   "cell_type": "code",
   "execution_count": 10,
   "id": "selective-symphony",
   "metadata": {},
   "outputs": [],
   "source": [
    "X_train, X_test, y_train, y_test = train_test_split(X, y, test_size=0.2, random_state=42)"
   ]
  },
  {
   "cell_type": "markdown",
   "id": "representative-worcester",
   "metadata": {},
   "source": [
    "# Solving task"
   ]
  },
  {
   "cell_type": "code",
   "execution_count": 11,
   "id": "reserved-judgment",
   "metadata": {},
   "outputs": [],
   "source": [
    "cv=3\n",
    "scoring=[\"accuracy\", \"roc_auc\"]\n",
    "refit=\"roc_auc\""
   ]
  },
  {
   "cell_type": "code",
   "execution_count": 12,
   "id": "painted-arrangement",
   "metadata": {},
   "outputs": [],
   "source": [
    "results = {}\n",
    "metrics = [\"mean_test_\" + score for score in scoring]"
   ]
  },
  {
   "cell_type": "code",
   "execution_count": 13,
   "id": "flying-vermont",
   "metadata": {},
   "outputs": [],
   "source": [
    "def get_results(gs):\n",
    "    global results\n",
    "    name = \"__\".join([step[0] for step in gs.estimator.steps])\n",
    "    results[name] = {metric: round(gs.cv_results_[metric][gs.best_index_], 3) for metric in metrics}\n",
    "    results[name] = results[name] | {\"best_params\": gs.best_params_}\n",
    "    pprint(results[name])"
   ]
  },
  {
   "cell_type": "code",
   "execution_count": 14,
   "id": "floral-opinion",
   "metadata": {},
   "outputs": [],
   "source": [
    "def text_preprocess(x):\n",
    "    #x = x[0]\n",
    "    x = x.lower()\n",
    "    x = re.sub(r'https*\\S+', ' ', x)                           # mentions\n",
    "    x = re.sub(r'@\\S+', ' ', x)                                # links\n",
    "    x = re.sub(r'#\\S+', ' ', x)                                # hashtags\n",
    "    x = re.sub(r'\\'\\w+', '', x)                                # ticks and the next character\n",
    "    x = re.sub('[%s]' % re.escape(string.punctuation), ' ', x) # punctuation\n",
    "    x = re.sub(r'\\w*\\d+\\w*', '', x)                            # numbers\n",
    "    x = re.sub(r'\\s{2,}', ' ', x)                              # over spaces\n",
    "    x = x.replace('\\xad', '')                                  # \\xad\n",
    "    x = x.replace('\\t', '')                                    # \\t\n",
    "    x = x.replace('№', '')                                     # \\t\n",
    "    return x"
   ]
  },
  {
   "cell_type": "code",
   "execution_count": 15,
   "id": "assisted-mobile",
   "metadata": {},
   "outputs": [],
   "source": [
    "tfidfvectorizer__param_grid = {\n",
    "    #\"tfidfvectorizer__ngram_range\": [(1, n) for n in range(1, 5)],\n",
    "    \"tfidfvectorizer__ngram_range\": [(1, 5)],\n",
    "    \"tfidfvectorizer__analyzer\": [\"char\"],\n",
    "    #\"tfidfvectorizer__max_features\": [None, 100, 1000, 5000, 10000],\n",
    "    \"tfidfvectorizer__max_features\": [1000],\n",
    "    #\"tfidfvectorizer__preprocessor\": [text_preprocess, None]\n",
    "    \"tfidfvectorizer__preprocessor\": [None]\n",
    "}"
   ]
  },
  {
   "cell_type": "markdown",
   "id": "running-source",
   "metadata": {},
   "source": [
    "## TfidfVectorizer -> MostCommonClassifier"
   ]
  },
  {
   "cell_type": "code",
   "execution_count": 16,
   "id": "infinite-sunrise",
   "metadata": {},
   "outputs": [],
   "source": [
    "class MostCommonClassifier(BaseEstimator, ClassifierMixin):\n",
    "\n",
    "    def __init__(self, sample_param=\"kek\"):\n",
    "        self.sample_param = sample_param\n",
    "\n",
    "    def fit(self, X, y):\n",
    "\n",
    "        self.classes_ = unique_labels(y)\n",
    "        unique, counts = np.unique(y, return_counts=True)\n",
    "        self.frequency = dict(zip(unique, counts))\n",
    "        self.probabilities = {}\n",
    "        for k, v in self.frequency.items():\n",
    "            self.probabilities[k] = v / sum(self.frequency.values())\n",
    "\n",
    "        return self\n",
    "    \n",
    "    def decision_function(self, X):\n",
    "\n",
    "        res = [0] * X.shape[0]\n",
    "        \n",
    "        return np.array(res)\n",
    "\n",
    "    def predict(self, X):\n",
    "\n",
    "        res = self.decision_function(X)\n",
    "        res = [1 if pred > 0.5 else 0 for pred in res]\n",
    "        \n",
    "        return np.array(res)"
   ]
  },
  {
   "cell_type": "code",
   "execution_count": 17,
   "id": "present-claim",
   "metadata": {},
   "outputs": [],
   "source": [
    "pipeline = make_pipeline(TfidfVectorizer(), MostCommonClassifier())\n",
    "\n",
    "param_grid = {}\n",
    "\n",
    "gs = GridSearchCV(pipeline, param_grid=param_grid, cv=cv, scoring=scoring, refit=refit, error_score=\"raise\", n_jobs=-1)"
   ]
  },
  {
   "cell_type": "code",
   "execution_count": 18,
   "id": "secret-capitol",
   "metadata": {
    "scrolled": true
   },
   "outputs": [
    {
     "data": {
      "text/plain": [
       "GridSearchCV(cv=3, error_score='raise',\n",
       "             estimator=Pipeline(steps=[('tfidfvectorizer', TfidfVectorizer()),\n",
       "                                       ('mostcommonclassifier',\n",
       "                                        MostCommonClassifier())]),\n",
       "             n_jobs=-1, param_grid={}, refit='roc_auc',\n",
       "             scoring=['accuracy', 'roc_auc'])"
      ]
     },
     "execution_count": 18,
     "metadata": {},
     "output_type": "execute_result"
    }
   ],
   "source": [
    "gs.fit(X, y)"
   ]
  },
  {
   "cell_type": "code",
   "execution_count": 19,
   "id": "twenty-professor",
   "metadata": {},
   "outputs": [
    {
     "name": "stdout",
     "output_type": "stream",
     "text": [
      "{'best_params': {}, 'mean_test_accuracy': 0.896, 'mean_test_roc_auc': 0.5}\n"
     ]
    }
   ],
   "source": [
    "get_results(gs)"
   ]
  },
  {
   "cell_type": "markdown",
   "id": "accepted-trust",
   "metadata": {},
   "source": [
    "## TfidfVectorizer -> ProbabilityClassifier"
   ]
  },
  {
   "cell_type": "code",
   "execution_count": 20,
   "id": "ignored-prison",
   "metadata": {},
   "outputs": [],
   "source": [
    "class ProbabilityClassifier(BaseEstimator, ClassifierMixin):\n",
    "\n",
    "    def __init__(self, sample_param=\"kek\"):\n",
    "        self.sample_param = sample_param\n",
    "\n",
    "    def fit(self, X, y):\n",
    "\n",
    "        self.classes_ = unique_labels(y)\n",
    "        unique, counts = np.unique(y, return_counts=True)\n",
    "        self.frequency = dict(zip(unique, counts))\n",
    "        self.probabilities = {}\n",
    "        for k, v in self.frequency.items():\n",
    "            self.probabilities[k] = v / sum(self.frequency.values())\n",
    "\n",
    "        return self\n",
    "\n",
    "    def decision_function(self, X):\n",
    "\n",
    "        res = []\n",
    "        for row in X:\n",
    "            res.append(np.random.choice(list(self.probabilities.keys()), p=list(self.probabilities.values())))\n",
    "        \n",
    "        return np.array(res)\n",
    "    \n",
    "    def predict(self, X):\n",
    "\n",
    "        res = self.decision_function(X)\n",
    "        res = [1 if pred > 0.5 else 0 for pred in res]\n",
    "        \n",
    "        return np.array(res)"
   ]
  },
  {
   "cell_type": "code",
   "execution_count": 21,
   "id": "thick-ecuador",
   "metadata": {},
   "outputs": [],
   "source": [
    "pipeline = make_pipeline(TfidfVectorizer(), ProbabilityClassifier())\n",
    "\n",
    "param_grid = {}\n",
    "\n",
    "gs = GridSearchCV(pipeline, param_grid=param_grid, cv=cv, scoring=scoring, refit=refit, error_score=\"raise\", n_jobs=-1)"
   ]
  },
  {
   "cell_type": "code",
   "execution_count": 22,
   "id": "endangered-titanium",
   "metadata": {
    "scrolled": true
   },
   "outputs": [
    {
     "data": {
      "text/plain": [
       "GridSearchCV(cv=3, error_score='raise',\n",
       "             estimator=Pipeline(steps=[('tfidfvectorizer', TfidfVectorizer()),\n",
       "                                       ('probabilityclassifier',\n",
       "                                        ProbabilityClassifier())]),\n",
       "             n_jobs=-1, param_grid={}, refit='roc_auc',\n",
       "             scoring=['accuracy', 'roc_auc'])"
      ]
     },
     "execution_count": 22,
     "metadata": {},
     "output_type": "execute_result"
    }
   ],
   "source": [
    "gs.fit(X, y)"
   ]
  },
  {
   "cell_type": "code",
   "execution_count": 23,
   "id": "russian-award",
   "metadata": {},
   "outputs": [
    {
     "name": "stdout",
     "output_type": "stream",
     "text": [
      "{'best_params': {}, 'mean_test_accuracy': 0.81, 'mean_test_roc_auc': 0.502}\n"
     ]
    }
   ],
   "source": [
    "get_results(gs)"
   ]
  },
  {
   "cell_type": "markdown",
   "id": "incorrect-mother",
   "metadata": {},
   "source": [
    "## TfidfVectorizer -> LogisticRegression"
   ]
  },
  {
   "cell_type": "code",
   "execution_count": 75,
   "id": "prepared-guest",
   "metadata": {},
   "outputs": [],
   "source": [
    "pipeline = make_pipeline(TfidfVectorizer(),\n",
    "                         LogisticRegression())\n",
    "\n",
    "logisticregression__param_grid = {\n",
    "    \"logisticregression__class_weight\": [None, \"balanced\"]\n",
    "}\n",
    "\n",
    "param_grid = tfidfvectorizer__param_grid | logisticregression__param_grid\n",
    "\n",
    "gs = GridSearchCV(pipeline, param_grid=param_grid, cv=cv, scoring=scoring, refit=refit, error_score=\"raise\", n_jobs=-1)"
   ]
  },
  {
   "cell_type": "code",
   "execution_count": 76,
   "id": "random-postage",
   "metadata": {},
   "outputs": [
    {
     "name": "stderr",
     "output_type": "stream",
     "text": [
      "/home/furiousteabag/.local/share/virtualenvs/base/lib/python3.9/site-packages/sklearn/linear_model/_logistic.py:763: ConvergenceWarning: lbfgs failed to converge (status=1):\n",
      "STOP: TOTAL NO. of ITERATIONS REACHED LIMIT.\n",
      "\n",
      "Increase the number of iterations (max_iter) or scale the data as shown in:\n",
      "    https://scikit-learn.org/stable/modules/preprocessing.html\n",
      "Please also refer to the documentation for alternative solver options:\n",
      "    https://scikit-learn.org/stable/modules/linear_model.html#logistic-regression\n",
      "  n_iter_i = _check_optimize_result(\n"
     ]
    },
    {
     "data": {
      "text/plain": [
       "GridSearchCV(cv=3, error_score='raise',\n",
       "             estimator=Pipeline(steps=[('tfidfvectorizer', TfidfVectorizer()),\n",
       "                                       ('logisticregression',\n",
       "                                        LogisticRegression())]),\n",
       "             n_jobs=-1,\n",
       "             param_grid={'logisticregression__class_weight': [None, 'balanced'],\n",
       "                         'tfidfvectorizer__analyzer': ['char'],\n",
       "                         'tfidfvectorizer__max_features': [1000],\n",
       "                         'tfidfvectorizer__ngram_range': [(1, 5)],\n",
       "                         'tfidfvectorizer__preprocessor': [None]},\n",
       "             refit='roc_auc', scoring=['accuracy', 'roc_auc'])"
      ]
     },
     "execution_count": 76,
     "metadata": {},
     "output_type": "execute_result"
    }
   ],
   "source": [
    "gs.fit(X, y)"
   ]
  },
  {
   "cell_type": "code",
   "execution_count": 77,
   "id": "minimal-monitoring",
   "metadata": {},
   "outputs": [
    {
     "name": "stdout",
     "output_type": "stream",
     "text": [
      "{'best_params': {'logisticregression__class_weight': 'balanced',\n",
      "                 'tfidfvectorizer__analyzer': 'char',\n",
      "                 'tfidfvectorizer__max_features': 1000,\n",
      "                 'tfidfvectorizer__ngram_range': (1, 5),\n",
      "                 'tfidfvectorizer__preprocessor': None},\n",
      " 'mean_test_accuracy': 0.684,\n",
      " 'mean_test_roc_auc': 0.746}\n"
     ]
    }
   ],
   "source": [
    "get_results(gs)"
   ]
  },
  {
   "cell_type": "markdown",
   "id": "paperback-paraguay",
   "metadata": {},
   "source": [
    "## TfidfVectorizer -> GradientBoostingClassifier"
   ]
  },
  {
   "cell_type": "code",
   "execution_count": 45,
   "id": "joined-toronto",
   "metadata": {},
   "outputs": [],
   "source": [
    "from sklearn.ensemble import GradientBoostingClassifier"
   ]
  },
  {
   "cell_type": "code",
   "execution_count": 46,
   "id": "potential-klein",
   "metadata": {},
   "outputs": [],
   "source": [
    "pipeline = make_pipeline(TfidfVectorizer(),\n",
    "                         GradientBoostingClassifier())\n",
    "\n",
    "\n",
    "param_grid = tfidfvectorizer__param_grid \n",
    "\n",
    "gs = GridSearchCV(pipeline, param_grid=param_grid, cv=2, scoring=scoring, refit=refit, error_score=\"raise\", n_jobs=-1, verbose=10)"
   ]
  },
  {
   "cell_type": "code",
   "execution_count": 47,
   "id": "liberal-underground",
   "metadata": {
    "scrolled": true
   },
   "outputs": [
    {
     "name": "stdout",
     "output_type": "stream",
     "text": [
      "Fitting 2 folds for each of 1 candidates, totalling 2 fits\n"
     ]
    },
    {
     "data": {
      "text/plain": [
       "GridSearchCV(cv=2, error_score='raise',\n",
       "             estimator=Pipeline(steps=[('tfidfvectorizer', TfidfVectorizer()),\n",
       "                                       ('gradientboostingclassifier',\n",
       "                                        GradientBoostingClassifier())]),\n",
       "             n_jobs=-1,\n",
       "             param_grid={'tfidfvectorizer__analyzer': ['char'],\n",
       "                         'tfidfvectorizer__max_features': [1000],\n",
       "                         'tfidfvectorizer__ngram_range': [(1, 5)],\n",
       "                         'tfidfvectorizer__preprocessor': [None]},\n",
       "             refit='roc_auc', scoring=['accuracy', 'roc_auc'], verbose=10)"
      ]
     },
     "execution_count": 47,
     "metadata": {},
     "output_type": "execute_result"
    }
   ],
   "source": [
    "gs.fit(X, y)"
   ]
  },
  {
   "cell_type": "code",
   "execution_count": 48,
   "id": "attached-mattress",
   "metadata": {
    "scrolled": true
   },
   "outputs": [
    {
     "name": "stdout",
     "output_type": "stream",
     "text": [
      "{'best_params': {'tfidfvectorizer__analyzer': 'char',\n",
      "                 'tfidfvectorizer__max_features': 1000,\n",
      "                 'tfidfvectorizer__ngram_range': (1, 5),\n",
      "                 'tfidfvectorizer__preprocessor': None},\n",
      " 'mean_test_accuracy': 0.896,\n",
      " 'mean_test_roc_auc': 0.767}\n"
     ]
    }
   ],
   "source": [
    "get_results(gs)"
   ]
  },
  {
   "cell_type": "markdown",
   "id": "later-consortium",
   "metadata": {},
   "source": [
    "# Results"
   ]
  },
  {
   "cell_type": "code",
   "execution_count": 49,
   "id": "protecting-california",
   "metadata": {},
   "outputs": [
    {
     "data": {
      "text/html": [
       "<div>\n",
       "<style scoped>\n",
       "    .dataframe tbody tr th:only-of-type {\n",
       "        vertical-align: middle;\n",
       "    }\n",
       "\n",
       "    .dataframe tbody tr th {\n",
       "        vertical-align: top;\n",
       "    }\n",
       "\n",
       "    .dataframe thead th {\n",
       "        text-align: right;\n",
       "    }\n",
       "</style>\n",
       "<table border=\"1\" class=\"dataframe\">\n",
       "  <thead>\n",
       "    <tr style=\"text-align: right;\">\n",
       "      <th></th>\n",
       "      <th>mean_test_accuracy</th>\n",
       "      <th>mean_test_roc_auc</th>\n",
       "      <th>best_params</th>\n",
       "    </tr>\n",
       "  </thead>\n",
       "  <tbody>\n",
       "    <tr>\n",
       "      <th>tfidfvectorizer__gradientboostingclassifier</th>\n",
       "      <td>0.896</td>\n",
       "      <td>0.767</td>\n",
       "      <td>{'tfidfvectorizer__analyzer': 'char', 'tfidfvectorizer__max_features': 1000, 'tfidfvectorizer__ngram_range': (1, 5), 'tfidfvectorizer__preprocessor': None}</td>\n",
       "    </tr>\n",
       "    <tr>\n",
       "      <th>tfidfvectorizer__xgbclassifier</th>\n",
       "      <td>0.884</td>\n",
       "      <td>0.744</td>\n",
       "      <td>{'tfidfvectorizer__analyzer': 'char', 'tfidfvectorizer__max_features': 1000, 'tfidfvectorizer__ngram_range': (1, 5), 'tfidfvectorizer__preprocessor': None}</td>\n",
       "    </tr>\n",
       "    <tr>\n",
       "      <th>tfidfvectorizer__probabilityclassifier</th>\n",
       "      <td>0.810</td>\n",
       "      <td>0.502</td>\n",
       "      <td>{}</td>\n",
       "    </tr>\n",
       "    <tr>\n",
       "      <th>tfidfvectorizer__mostcommonclassifier</th>\n",
       "      <td>0.896</td>\n",
       "      <td>0.500</td>\n",
       "      <td>{}</td>\n",
       "    </tr>\n",
       "  </tbody>\n",
       "</table>\n",
       "</div>"
      ],
      "text/plain": [
       "                                             mean_test_accuracy  \\\n",
       "tfidfvectorizer__gradientboostingclassifier               0.896   \n",
       "tfidfvectorizer__xgbclassifier                            0.884   \n",
       "tfidfvectorizer__probabilityclassifier                    0.810   \n",
       "tfidfvectorizer__mostcommonclassifier                     0.896   \n",
       "\n",
       "                                             mean_test_roc_auc  \\\n",
       "tfidfvectorizer__gradientboostingclassifier              0.767   \n",
       "tfidfvectorizer__xgbclassifier                           0.744   \n",
       "tfidfvectorizer__probabilityclassifier                   0.502   \n",
       "tfidfvectorizer__mostcommonclassifier                    0.500   \n",
       "\n",
       "                                                                                                                                                                                             best_params  \n",
       "tfidfvectorizer__gradientboostingclassifier  {'tfidfvectorizer__analyzer': 'char', 'tfidfvectorizer__max_features': 1000, 'tfidfvectorizer__ngram_range': (1, 5), 'tfidfvectorizer__preprocessor': None}  \n",
       "tfidfvectorizer__xgbclassifier               {'tfidfvectorizer__analyzer': 'char', 'tfidfvectorizer__max_features': 1000, 'tfidfvectorizer__ngram_range': (1, 5), 'tfidfvectorizer__preprocessor': None}  \n",
       "tfidfvectorizer__probabilityclassifier                                                                                                                                                                {}  \n",
       "tfidfvectorizer__mostcommonclassifier                                                                                                                                                                 {}  "
      ]
     },
     "metadata": {},
     "output_type": "display_data"
    }
   ],
   "source": [
    "info = pd.DataFrame.from_dict(results, orient=\"index\").sort_values(by=\"mean_test_roc_auc\", ascending=False)\n",
    "display(info)"
   ]
  },
  {
   "cell_type": "markdown",
   "id": "brief-fiber",
   "metadata": {},
   "source": [
    "# Uploading solution"
   ]
  },
  {
   "cell_type": "markdown",
   "id": "organizational-advertising",
   "metadata": {},
   "source": [
    "## Docker packing"
   ]
  },
  {
   "cell_type": "raw",
   "id": "super-deposit",
   "metadata": {},
   "source": [
    "import pickle"
   ]
  },
  {
   "cell_type": "raw",
   "id": "southeast-tampa",
   "metadata": {},
   "source": [
    "with open('./models/tfidfvectorizer__logisticregression.pickle', 'wb') as f:\n",
    "    pickle.dump(gs, f)"
   ]
  },
  {
   "cell_type": "raw",
   "id": "quantitative-fisher",
   "metadata": {},
   "source": [
    "with open('./models/tfidfvectorizer__logisticregression.pickle', 'rb') as f:\n",
    "    gs = pickle.load(f)"
   ]
  },
  {
   "cell_type": "markdown",
   "id": "vertical-estonia",
   "metadata": {},
   "source": [
    "## Prediction"
   ]
  },
  {
   "cell_type": "code",
   "execution_count": 80,
   "id": "forty-infrared",
   "metadata": {},
   "outputs": [],
   "source": [
    "questions = pd.read_csv(\"./data/data.csv\", delimiter=\";\")\n",
    "test = pd.read_csv(\"./data/test.csv\", delimiter=\";\")\n",
    "data = pd.merge(questions, test, on=\"ID\")"
   ]
  },
  {
   "cell_type": "code",
   "execution_count": 81,
   "id": "adjacent-above",
   "metadata": {},
   "outputs": [],
   "source": [
    "prediction = gs.predict_proba(list(data[\"Question\"]))[:, 1]\n",
    "data[\"prediction\"] = prediction"
   ]
  },
  {
   "cell_type": "code",
   "execution_count": 82,
   "id": "removable-edmonton",
   "metadata": {},
   "outputs": [
    {
     "data": {
      "text/html": [
       "<div>\n",
       "<style scoped>\n",
       "    .dataframe tbody tr th:only-of-type {\n",
       "        vertical-align: middle;\n",
       "    }\n",
       "\n",
       "    .dataframe tbody tr th {\n",
       "        vertical-align: top;\n",
       "    }\n",
       "\n",
       "    .dataframe thead th {\n",
       "        text-align: right;\n",
       "    }\n",
       "</style>\n",
       "<table border=\"1\" class=\"dataframe\">\n",
       "  <thead>\n",
       "    <tr style=\"text-align: right;\">\n",
       "      <th></th>\n",
       "      <th>ID</th>\n",
       "      <th>Question</th>\n",
       "      <th>prediction</th>\n",
       "    </tr>\n",
       "  </thead>\n",
       "  <tbody>\n",
       "    <tr>\n",
       "      <th>0</th>\n",
       "      <td>30001</td>\n",
       "      <td>Что в литературе обозначает слово \"эпитет\"?</td>\n",
       "      <td>0.019877</td>\n",
       "    </tr>\n",
       "    <tr>\n",
       "      <th>1</th>\n",
       "      <td>30002</td>\n",
       "      <td>Когда отмечается ДЕНЬ ШОКОЛАДА</td>\n",
       "      <td>0.140509</td>\n",
       "    </tr>\n",
       "    <tr>\n",
       "      <th>2</th>\n",
       "      <td>30003</td>\n",
       "      <td>Кто из этих бодибилдеров играл Халка</td>\n",
       "      <td>0.345797</td>\n",
       "    </tr>\n",
       "    <tr>\n",
       "      <th>3</th>\n",
       "      <td>30004</td>\n",
       "      <td>Последняя на данный момент страна, официально происоединившаяся к Европейскому союзу</td>\n",
       "      <td>0.327493</td>\n",
       "    </tr>\n",
       "    <tr>\n",
       "      <th>4</th>\n",
       "      <td>30005</td>\n",
       "      <td>Как зовут лютоволка Арьи Старк из сериала  «Игра престолов»?</td>\n",
       "      <td>0.846175</td>\n",
       "    </tr>\n",
       "    <tr>\n",
       "      <th>...</th>\n",
       "      <td>...</td>\n",
       "      <td>...</td>\n",
       "      <td>...</td>\n",
       "    </tr>\n",
       "    <tr>\n",
       "      <th>11082</th>\n",
       "      <td>41083</td>\n",
       "      <td>В каком году распался СССР</td>\n",
       "      <td>0.391766</td>\n",
       "    </tr>\n",
       "    <tr>\n",
       "      <th>11083</th>\n",
       "      <td>41084</td>\n",
       "      <td>Сколько калорий в 100 гр арбуза?</td>\n",
       "      <td>0.282248</td>\n",
       "    </tr>\n",
       "    <tr>\n",
       "      <th>11084</th>\n",
       "      <td>41085</td>\n",
       "      <td>Сколько хвостов у лиса, который является демоном из японской мифологии?</td>\n",
       "      <td>0.577866</td>\n",
       "    </tr>\n",
       "    <tr>\n",
       "      <th>11085</th>\n",
       "      <td>41086</td>\n",
       "      <td>Сколько раз магнитогорский металлург становился обладателем кубка гагарина</td>\n",
       "      <td>0.352210</td>\n",
       "    </tr>\n",
       "    <tr>\n",
       "      <th>11086</th>\n",
       "      <td>41087</td>\n",
       "      <td>Какая численность людей в 2018 году?</td>\n",
       "      <td>0.573635</td>\n",
       "    </tr>\n",
       "  </tbody>\n",
       "</table>\n",
       "<p>11087 rows × 3 columns</p>\n",
       "</div>"
      ],
      "text/plain": [
       "          ID  \\\n",
       "0      30001   \n",
       "1      30002   \n",
       "2      30003   \n",
       "3      30004   \n",
       "4      30005   \n",
       "...      ...   \n",
       "11082  41083   \n",
       "11083  41084   \n",
       "11084  41085   \n",
       "11085  41086   \n",
       "11086  41087   \n",
       "\n",
       "                                                                                   Question  \\\n",
       "0                                               Что в литературе обозначает слово \"эпитет\"?   \n",
       "1                                                            Когда отмечается ДЕНЬ ШОКОЛАДА   \n",
       "2                                                      Кто из этих бодибилдеров играл Халка   \n",
       "3      Последняя на данный момент страна, официально происоединившаяся к Европейскому союзу   \n",
       "4                              Как зовут лютоволка Арьи Старк из сериала  «Игра престолов»?   \n",
       "...                                                                                     ...   \n",
       "11082                                                            В каком году распался СССР   \n",
       "11083                                                      Сколько калорий в 100 гр арбуза?   \n",
       "11084               Сколько хвостов у лиса, который является демоном из японской мифологии?   \n",
       "11085            Сколько раз магнитогорский металлург становился обладателем кубка гагарина   \n",
       "11086                                                  Какая численность людей в 2018 году?   \n",
       "\n",
       "       prediction  \n",
       "0        0.019877  \n",
       "1        0.140509  \n",
       "2        0.345797  \n",
       "3        0.327493  \n",
       "4        0.846175  \n",
       "...           ...  \n",
       "11082    0.391766  \n",
       "11083    0.282248  \n",
       "11084    0.577866  \n",
       "11085    0.352210  \n",
       "11086    0.573635  \n",
       "\n",
       "[11087 rows x 3 columns]"
      ]
     },
     "execution_count": 82,
     "metadata": {},
     "output_type": "execute_result"
    }
   ],
   "source": [
    "data"
   ]
  },
  {
   "cell_type": "code",
   "execution_count": 83,
   "id": "proved-sheriff",
   "metadata": {},
   "outputs": [],
   "source": [
    "data[[\"ID\", \"prediction\"]].to_csv(\"./output/tfidfvectorizer__logisticregression.csv\", index=False, header=False)"
   ]
  },
  {
   "cell_type": "markdown",
   "id": "interior-cabin",
   "metadata": {},
   "source": [
    "## Preprocessing"
   ]
  },
  {
   "cell_type": "code",
   "execution_count": 53,
   "id": "aerial-symposium",
   "metadata": {},
   "outputs": [],
   "source": [
    "questions = pd.read_csv(\"./data/data.csv\", delimiter=\";\")\n",
    "test = pd.read_csv(\"./data/test.csv\", delimiter=\";\")\n",
    "data = pd.merge(questions, test, on=\"ID\")"
   ]
  },
  {
   "cell_type": "code",
   "execution_count": 59,
   "id": "remarkable-promotion",
   "metadata": {},
   "outputs": [
    {
     "data": {
      "text/html": [
       "<div>\n",
       "<style scoped>\n",
       "    .dataframe tbody tr th:only-of-type {\n",
       "        vertical-align: middle;\n",
       "    }\n",
       "\n",
       "    .dataframe tbody tr th {\n",
       "        vertical-align: top;\n",
       "    }\n",
       "\n",
       "    .dataframe thead th {\n",
       "        text-align: right;\n",
       "    }\n",
       "</style>\n",
       "<table border=\"1\" class=\"dataframe\">\n",
       "  <thead>\n",
       "    <tr style=\"text-align: right;\">\n",
       "      <th></th>\n",
       "      <th>ID</th>\n",
       "      <th>Question</th>\n",
       "    </tr>\n",
       "  </thead>\n",
       "  <tbody>\n",
       "    <tr>\n",
       "      <th>0</th>\n",
       "      <td>30001</td>\n",
       "      <td>Что в литературе обозначает слово \"эпитет\"?</td>\n",
       "    </tr>\n",
       "    <tr>\n",
       "      <th>1</th>\n",
       "      <td>30002</td>\n",
       "      <td>Когда отмечается ДЕНЬ ШОКОЛАДА</td>\n",
       "    </tr>\n",
       "    <tr>\n",
       "      <th>2</th>\n",
       "      <td>30003</td>\n",
       "      <td>Кто из этих бодибилдеров играл Халка</td>\n",
       "    </tr>\n",
       "    <tr>\n",
       "      <th>3</th>\n",
       "      <td>30004</td>\n",
       "      <td>Последняя на данный момент страна, официально происоединившаяся к Европейскому союзу</td>\n",
       "    </tr>\n",
       "    <tr>\n",
       "      <th>4</th>\n",
       "      <td>30005</td>\n",
       "      <td>Как зовут лютоволка Арьи Старк из сериала  «Игра престолов»?</td>\n",
       "    </tr>\n",
       "    <tr>\n",
       "      <th>...</th>\n",
       "      <td>...</td>\n",
       "      <td>...</td>\n",
       "    </tr>\n",
       "    <tr>\n",
       "      <th>11082</th>\n",
       "      <td>41083</td>\n",
       "      <td>В каком году распался СССР</td>\n",
       "    </tr>\n",
       "    <tr>\n",
       "      <th>11083</th>\n",
       "      <td>41084</td>\n",
       "      <td>Сколько калорий в 100 гр арбуза?</td>\n",
       "    </tr>\n",
       "    <tr>\n",
       "      <th>11084</th>\n",
       "      <td>41085</td>\n",
       "      <td>Сколько хвостов у лиса, который является демоном из японской мифологии?</td>\n",
       "    </tr>\n",
       "    <tr>\n",
       "      <th>11085</th>\n",
       "      <td>41086</td>\n",
       "      <td>Сколько раз магнитогорский металлург становился обладателем кубка гагарина</td>\n",
       "    </tr>\n",
       "    <tr>\n",
       "      <th>11086</th>\n",
       "      <td>41087</td>\n",
       "      <td>Какая численность людей в 2018 году?</td>\n",
       "    </tr>\n",
       "  </tbody>\n",
       "</table>\n",
       "<p>11087 rows × 2 columns</p>\n",
       "</div>"
      ],
      "text/plain": [
       "          ID  \\\n",
       "0      30001   \n",
       "1      30002   \n",
       "2      30003   \n",
       "3      30004   \n",
       "4      30005   \n",
       "...      ...   \n",
       "11082  41083   \n",
       "11083  41084   \n",
       "11084  41085   \n",
       "11085  41086   \n",
       "11086  41087   \n",
       "\n",
       "                                                                                   Question  \n",
       "0                                               Что в литературе обозначает слово \"эпитет\"?  \n",
       "1                                                            Когда отмечается ДЕНЬ ШОКОЛАДА  \n",
       "2                                                      Кто из этих бодибилдеров играл Халка  \n",
       "3      Последняя на данный момент страна, официально происоединившаяся к Европейскому союзу  \n",
       "4                              Как зовут лютоволка Арьи Старк из сериала  «Игра престолов»?  \n",
       "...                                                                                     ...  \n",
       "11082                                                            В каком году распался СССР  \n",
       "11083                                                      Сколько калорий в 100 гр арбуза?  \n",
       "11084               Сколько хвостов у лиса, который является демоном из японской мифологии?  \n",
       "11085            Сколько раз магнитогорский металлург становился обладателем кубка гагарина  \n",
       "11086                                                  Какая численность людей в 2018 году?  \n",
       "\n",
       "[11087 rows x 2 columns]"
      ]
     },
     "execution_count": 59,
     "metadata": {},
     "output_type": "execute_result"
    }
   ],
   "source": [
    "data"
   ]
  },
  {
   "cell_type": "code",
   "execution_count": 56,
   "id": "identical-harvest",
   "metadata": {},
   "outputs": [],
   "source": [
    "import numpy as np\n",
    "import pandas as pd\n",
    "\n",
    "import re, nltk\n",
    "\n",
    "from tqdm import tqdm\n",
    "\n",
    "\n",
    "def get_preprocess_data(data):\n",
    "    \"\"\"\n",
    "    Args: \n",
    "        data - dataframe with columns [id, questions]\n",
    "    \"\"\"\n",
    "\n",
    "    X = pd.DataFrame(data)\n",
    "    no_expert_words = ['почему', 'будет', 'клевер', 'назовите', 'клевера', 'нельзя', 'нет', 'то', 'метро']\n",
    "    regex_tokenizer = nltk.RegexpTokenizer(\"\\w+\")\n",
    "    \n",
    "    def normalize_text(text):\n",
    "        # lowercase text\n",
    "        text = str(text).lower()\n",
    "        # remove non-UTF\n",
    "        text = text.encode(\"utf-8\", \"ignore\").decode()\n",
    "        # remove punktuation symbols\n",
    "        text = \" \".join(regex_tokenizer.tokenize(text))\n",
    "        return text\n",
    "    \n",
    "    questions = X.iloc[:, 1]\n",
    "    vals = questions.values\n",
    "    \n",
    "    end_question = []\n",
    "    fst_capital = []\n",
    "    no_expert_eto = []\n",
    "    special_signs = []\n",
    "    good_special_words= []\n",
    "    not_enough_words = []\n",
    "    no_expert = []\n",
    "    bad_comma = []\n",
    "    letters=[]\n",
    "    \n",
    "    for i in tqdm(range(len(vals))):\n",
    "        x = vals[i]\n",
    "        end_question.append(int(bool(re.search(r'.*?\\?$', x))))\n",
    "        fst_capital.append(int(bool(re.search(r'^[А-Я]', x))))\n",
    "        no_expert_eto.append(int(bool(re.search(r'(\\- это|[^\\–] это)[^а-яА-Я]', x))))\n",
    "        special_signs.append(int(bool(re.search(r'([\\'?_:$!%^&*+\\\"”<>]|\\.{1,}|,{2,}).*?\\?$', x))))\n",
    "        good_special_words.append(int(bool(re.search(r'[а-яА-Яa-zA-Z]\\.|\\'[а-яА-Яa-zA-Z]|[a-zA-Z]+:\\s?[a-zA-Z+|«.*»', x))))\n",
    "        not_enough_words.append(int(bool(re.search(r'([а-яА-Яa-zA-Z]+[\\s]?){6,}', x)))) \n",
    "        bad_comma.append(int(not bool(re.search(r'[а-яА-Яa-zA-Z]+\\, [а-яА-Яa-zA-Z]+', x)))*int(',' in x))\n",
    "        \n",
    "        \n",
    "        letters.append(int(bool(re.search(r'^[^КВИСЧГНПУМОЗДРАФЕЛБ]', x))))\n",
    "        normal_x = normalize_text(x)\n",
    "        no_expert.append(int(bool(any(w in normal_x.split() for w in no_expert_words[:6])))) \n",
    "     \n",
    "    X['end_question'] = pd.Series(end_question)\n",
    "    X['fst_capital'] = pd.Series(fst_capital)\n",
    "    X['no_expert_eto'] = pd.Series(no_expert_eto)\n",
    "    X['special_signs'] = pd.Series(special_signs)\n",
    "    X['good_special_words'] = pd.Series(good_special_words)\n",
    "    X['not_enough_words'] = pd.Series(not_enough_words)\n",
    "    X['no_expert'] = pd.Series(no_expert)\n",
    "    X['bad_comma'] = pd.Series(bad_comma)\n",
    "    X['letters'] = pd.Series(letters)\n",
    "    \n",
    "    X.drop(X[X['end_question'] == 0].index, inplace=True)\n",
    "    \n",
    "    #X.drop(X[X['letters'] == 1].index, inplace=True)\n",
    "    \n",
    "    X.drop(X[X['fst_capital'] == 0].index, inplace=True)\n",
    "    X.drop(X[(X['special_signs'] == 1) & (X['good_special_words'] == 0)].index, inplace=True)\n",
    "    X.drop(X[X['bad_comma'] == 1].index, inplace=True)\n",
    "    X.drop(X[X['no_expert_eto'] == 1].index, inplace=True)\n",
    "    X.drop(X[X['not_enough_words'] == 0].index, inplace=True)\n",
    "    X.drop(X[X['no_expert'] == 1].index, inplace=True)\n",
    "    \n",
    "    #X['Question'] = list(map(normalize_text, X['Question']))\n",
    "    non_labeled_data = X[['ID', 'Question']]\n",
    "    \n",
    "    labeled_data = data[~data['ID'].isin(non_labeled_data['ID'])][['ID', 'Question']]\n",
    "    labeled_data['Answer'] = list(map(int, np.zeros(labeled_data.shape[0])))\n",
    "\n",
    "    return non_labeled_data, labeled_data\n",
    "    "
   ]
  },
  {
   "cell_type": "code",
   "execution_count": 60,
   "id": "phantom-plain",
   "metadata": {},
   "outputs": [
    {
     "name": "stderr",
     "output_type": "stream",
     "text": [
      "100%|██████████| 11087/11087 [00:00<00:00, 29231.90it/s]\n"
     ]
    }
   ],
   "source": [
    "non_labeled_data, labeled_data = get_preprocess_data(data)"
   ]
  },
  {
   "cell_type": "code",
   "execution_count": 63,
   "id": "cognitive-diana",
   "metadata": {},
   "outputs": [],
   "source": [
    "prediction = gs.predict_proba(list(non_labeled_data[\"Question\"]))[:, 1]\n",
    "non_labeled_data[\"prediction\"] = prediction"
   ]
  },
  {
   "cell_type": "code",
   "execution_count": 72,
   "id": "chronic-celebration",
   "metadata": {},
   "outputs": [],
   "source": [
    "non_labeled_data[\"Answer\"] = non_labeled_data[\"prediction\"]"
   ]
  },
  {
   "cell_type": "code",
   "execution_count": 73,
   "id": "aggressive-lottery",
   "metadata": {},
   "outputs": [],
   "source": [
    "res = non_labeled_data.append(labeled_data).sort_values(by=\"ID\")\n",
    "res[[\"ID\", \"Answer\"]].to_csv(\"./output/custom.csv\", index=False, header=False)"
   ]
  }
 ],
 "metadata": {
  "kernelspec": {
   "display_name": "Python 3",
   "language": "python",
   "name": "python3"
  },
  "language_info": {
   "codemirror_mode": {
    "name": "ipython",
    "version": 3
   },
   "file_extension": ".py",
   "mimetype": "text/x-python",
   "name": "python",
   "nbconvert_exporter": "python",
   "pygments_lexer": "ipython3",
   "version": "3.9.2"
  },
  "toc": {
   "base_numbering": 1,
   "nav_menu": {},
   "number_sections": true,
   "sideBar": true,
   "skip_h1_title": false,
   "title_cell": "Table of Contents",
   "title_sidebar": "Contents",
   "toc_cell": false,
   "toc_position": {
    "height": "calc(100% - 180px)",
    "left": "10px",
    "top": "150px",
    "width": "383.188px"
   },
   "toc_section_display": true,
   "toc_window_display": true
  }
 },
 "nbformat": 4,
 "nbformat_minor": 5
}
