{
 "cells": [
  {
   "cell_type": "code",
   "execution_count": 1,
   "id": "funded-recruitment",
   "metadata": {},
   "outputs": [],
   "source": [
    "from pprint import pprint\n",
    "from tqdm import tqdm\n",
    "import re\n",
    "import string\n",
    "import numpy as np\n",
    "import pandas as pd\n",
    "import matplotlib.pyplot as plt\n",
    "\n",
    "from sklearn.metrics import accuracy_score, roc_auc_score\n",
    "\n",
    "from sklearn.model_selection import train_test_split\n",
    "from sklearn.model_selection import GridSearchCV\n",
    "\n",
    "from sklearn.pipeline import make_pipeline\n",
    "from sklearn.feature_extraction.text import TfidfVectorizer\n",
    "from sklearn.linear_model import LogisticRegression\n",
    "\n",
    "from sklearn.base import BaseEstimator\n",
    "from sklearn.base import ClassifierMixin\n",
    "from sklearn.utils.multiclass import unique_labels\n",
    "\n",
    "pd.set_option('display.max_colwidth', None)"
   ]
  },
  {
   "cell_type": "raw",
   "id": "packed-typing",
   "metadata": {},
   "source": [
    "from imblearn.pipeline import make_pipeline"
   ]
  },
  {
   "cell_type": "raw",
   "id": "emerging-bracelet",
   "metadata": {},
   "source": [
    "from imblearn.over_sampling import RandomOverSampler"
   ]
  },
  {
   "cell_type": "raw",
   "id": "metric-mineral",
   "metadata": {},
   "source": [
    "from sklearn.preprocessing import FunctionTransformer"
   ]
  },
  {
   "cell_type": "markdown",
   "id": "fitted-feature",
   "metadata": {},
   "source": [
    "# Loading data"
   ]
  },
  {
   "cell_type": "code",
   "execution_count": 2,
   "id": "retained-fight",
   "metadata": {},
   "outputs": [],
   "source": [
    "questions = pd.read_csv(\"./data/data.csv\", delimiter=\";\")\n",
    "answers = pd.read_csv(\"./data/train.csv\", delimiter=\";\")"
   ]
  },
  {
   "cell_type": "code",
   "execution_count": 3,
   "id": "engaging-uruguay",
   "metadata": {},
   "outputs": [],
   "source": [
    "data = pd.merge(questions, answers, on=\"ID\")"
   ]
  },
  {
   "cell_type": "code",
   "execution_count": 4,
   "id": "czech-marine",
   "metadata": {},
   "outputs": [],
   "source": [
    "data[\"Question\"] = data[\"Question\"].astype(\"string\")"
   ]
  },
  {
   "cell_type": "markdown",
   "id": "actual-convention",
   "metadata": {},
   "source": [
    "# Analyzing data"
   ]
  },
  {
   "cell_type": "code",
   "execution_count": 5,
   "id": "educated-glasgow",
   "metadata": {},
   "outputs": [
    {
     "name": "stdout",
     "output_type": "stream",
     "text": [
      "(30000, 3)\n"
     ]
    }
   ],
   "source": [
    "print(data.shape)"
   ]
  },
  {
   "cell_type": "code",
   "execution_count": 6,
   "id": "immediate-companion",
   "metadata": {},
   "outputs": [
    {
     "data": {
      "image/png": "[encoded data removed]",
      "text/plain": [
       "<Figure size 432x288 with 1 Axes>"
      ]
     },
     "metadata": {
      "needs_background": "light"
     },
     "output_type": "display_data"
    }
   ],
   "source": [
    "plt.grid(True)\n",
    "plt.hist(data[\"Answer\"])\n",
    "plt.show()"
   ]
  },
  {
   "cell_type": "code",
   "execution_count": 7,
   "id": "figured-citizen",
   "metadata": {},
   "outputs": [
    {
     "data": {
      "text/html": [
       "<div>\n",
       "<style scoped>\n",
       "    .dataframe tbody tr th:only-of-type {\n",
       "        vertical-align: middle;\n",
       "    }\n",
       "\n",
       "    .dataframe tbody tr th {\n",
       "        vertical-align: top;\n",
       "    }\n",
       "\n",
       "    .dataframe thead th {\n",
       "        text-align: right;\n",
       "    }\n",
       "</style>\n",
       "<table border=\"1\" class=\"dataframe\">\n",
       "  <thead>\n",
       "    <tr style=\"text-align: right;\">\n",
       "      <th></th>\n",
       "      <th>ID</th>\n",
       "      <th>Question</th>\n",
       "      <th>Answer</th>\n",
       "    </tr>\n",
       "  </thead>\n",
       "  <tbody>\n",
       "    <tr>\n",
       "      <th>1</th>\n",
       "      <td>2</td>\n",
       "      <td>Как в химии обозначается свинец?</td>\n",
       "      <td>1</td>\n",
       "    </tr>\n",
       "    <tr>\n",
       "      <th>5</th>\n",
       "      <td>6</td>\n",
       "      <td>Какая эра геологической истории Земли относится к настоящему времени?</td>\n",
       "      <td>1</td>\n",
       "    </tr>\n",
       "    <tr>\n",
       "      <th>8</th>\n",
       "      <td>9</td>\n",
       "      <td>Какой из этих мультфильмов повествует о реально существовавшей собаке?</td>\n",
       "      <td>1</td>\n",
       "    </tr>\n",
       "    <tr>\n",
       "      <th>20</th>\n",
       "      <td>21</td>\n",
       "      <td>Как называется часть речи, обладающая свойствами глагола и прилагательного?</td>\n",
       "      <td>1</td>\n",
       "    </tr>\n",
       "    <tr>\n",
       "      <th>22</th>\n",
       "      <td>23</td>\n",
       "      <td>Когда была запущена «Википедия»?</td>\n",
       "      <td>1</td>\n",
       "    </tr>\n",
       "    <tr>\n",
       "      <th>41</th>\n",
       "      <td>42</td>\n",
       "      <td>Где находится яд у кобры?</td>\n",
       "      <td>1</td>\n",
       "    </tr>\n",
       "    <tr>\n",
       "      <th>45</th>\n",
       "      <td>46</td>\n",
       "      <td>Как зовут создателя паровой машины?</td>\n",
       "      <td>1</td>\n",
       "    </tr>\n",
       "    <tr>\n",
       "      <th>48</th>\n",
       "      <td>49</td>\n",
       "      <td>Сколько всего пальцев на лапах у кошек?</td>\n",
       "      <td>1</td>\n",
       "    </tr>\n",
       "    <tr>\n",
       "      <th>63</th>\n",
       "      <td>64</td>\n",
       "      <td>Сколько всего было выпущено серий сериала «Санта-Барбара»?</td>\n",
       "      <td>1</td>\n",
       "    </tr>\n",
       "    <tr>\n",
       "      <th>64</th>\n",
       "      <td>65</td>\n",
       "      <td>В каком году был поход Руси на Константинополь?</td>\n",
       "      <td>1</td>\n",
       "    </tr>\n",
       "  </tbody>\n",
       "</table>\n",
       "</div>"
      ],
      "text/plain": [
       "    ID  \\\n",
       "1    2   \n",
       "5    6   \n",
       "8    9   \n",
       "20  21   \n",
       "22  23   \n",
       "41  42   \n",
       "45  46   \n",
       "48  49   \n",
       "63  64   \n",
       "64  65   \n",
       "\n",
       "                                                                       Question  \\\n",
       "1                                              Как в химии обозначается свинец?   \n",
       "5         Какая эра геологической истории Земли относится к настоящему времени?   \n",
       "8        Какой из этих мультфильмов повествует о реально существовавшей собаке?   \n",
       "20  Как называется часть речи, обладающая свойствами глагола и прилагательного?   \n",
       "22                                             Когда была запущена «Википедия»?   \n",
       "41                                                    Где находится яд у кобры?   \n",
       "45                                          Как зовут создателя паровой машины?   \n",
       "48                                      Сколько всего пальцев на лапах у кошек?   \n",
       "63                   Сколько всего было выпущено серий сериала «Санта-Барбара»?   \n",
       "64                              В каком году был поход Руси на Константинополь?   \n",
       "\n",
       "    Answer  \n",
       "1        1  \n",
       "5        1  \n",
       "8        1  \n",
       "20       1  \n",
       "22       1  \n",
       "41       1  \n",
       "45       1  \n",
       "48       1  \n",
       "63       1  \n",
       "64       1  "
      ]
     },
     "metadata": {},
     "output_type": "display_data"
    }
   ],
   "source": [
    "display(data[data[\"Answer\"] == 1].iloc[:10])"
   ]
  },
  {
   "cell_type": "code",
   "execution_count": 8,
   "id": "norman-calvin",
   "metadata": {},
   "outputs": [
    {
     "data": {
      "text/html": [
       "<div>\n",
       "<style scoped>\n",
       "    .dataframe tbody tr th:only-of-type {\n",
       "        vertical-align: middle;\n",
       "    }\n",
       "\n",
       "    .dataframe tbody tr th {\n",
       "        vertical-align: top;\n",
       "    }\n",
       "\n",
       "    .dataframe thead th {\n",
       "        text-align: right;\n",
       "    }\n",
       "</style>\n",
       "<table border=\"1\" class=\"dataframe\">\n",
       "  <thead>\n",
       "    <tr style=\"text-align: right;\">\n",
       "      <th></th>\n",
       "      <th>ID</th>\n",
       "      <th>Question</th>\n",
       "      <th>Answer</th>\n",
       "    </tr>\n",
       "  </thead>\n",
       "  <tbody>\n",
       "    <tr>\n",
       "      <th>0</th>\n",
       "      <td>1</td>\n",
       "      <td>Как зовут лодочника на реке Стикс в древнегреческой мифологии?</td>\n",
       "      <td>0</td>\n",
       "    </tr>\n",
       "    <tr>\n",
       "      <th>2</th>\n",
       "      <td>3</td>\n",
       "      <td>Какой химический элемент преобладает в составе каменного угля?</td>\n",
       "      <td>0</td>\n",
       "    </tr>\n",
       "    <tr>\n",
       "      <th>3</th>\n",
       "      <td>4</td>\n",
       "      <td>Кто из перечисленных был пажом во времена Екатерины II?</td>\n",
       "      <td>0</td>\n",
       "    </tr>\n",
       "    <tr>\n",
       "      <th>4</th>\n",
       "      <td>5</td>\n",
       "      <td>Когда началась 2 мировая война?</td>\n",
       "      <td>0</td>\n",
       "    </tr>\n",
       "    <tr>\n",
       "      <th>6</th>\n",
       "      <td>7</td>\n",
       "      <td>Кто из животных может мурлыкать?</td>\n",
       "      <td>0</td>\n",
       "    </tr>\n",
       "    <tr>\n",
       "      <th>7</th>\n",
       "      <td>8</td>\n",
       "      <td>Что из перечисленного НЕ входит в национальную русскую кухню?</td>\n",
       "      <td>0</td>\n",
       "    </tr>\n",
       "    <tr>\n",
       "      <th>9</th>\n",
       "      <td>10</td>\n",
       "      <td>Кто написал повесть «Муму»</td>\n",
       "      <td>0</td>\n",
       "    </tr>\n",
       "    <tr>\n",
       "      <th>10</th>\n",
       "      <td>11</td>\n",
       "      <td>Что такое кульверт?</td>\n",
       "      <td>0</td>\n",
       "    </tr>\n",
       "    <tr>\n",
       "      <th>11</th>\n",
       "      <td>12</td>\n",
       "      <td>В какой воде меньше содержание примесей?</td>\n",
       "      <td>0</td>\n",
       "    </tr>\n",
       "    <tr>\n",
       "      <th>12</th>\n",
       "      <td>13</td>\n",
       "      <td>Сколько музыкантов в квинтете</td>\n",
       "      <td>0</td>\n",
       "    </tr>\n",
       "  </tbody>\n",
       "</table>\n",
       "</div>"
      ],
      "text/plain": [
       "    ID                                                        Question  Answer\n",
       "0    1  Как зовут лодочника на реке Стикс в древнегреческой мифологии?       0\n",
       "2    3  Какой химический элемент преобладает в составе каменного угля?       0\n",
       "3    4         Кто из перечисленных был пажом во времена Екатерины II?       0\n",
       "4    5                                 Когда началась 2 мировая война?       0\n",
       "6    7                                Кто из животных может мурлыкать?       0\n",
       "7    8   Что из перечисленного НЕ входит в национальную русскую кухню?       0\n",
       "9   10                                      Кто написал повесть «Муму»       0\n",
       "10  11                                             Что такое кульверт?       0\n",
       "11  12                        В какой воде меньше содержание примесей?       0\n",
       "12  13                                   Сколько музыкантов в квинтете       0"
      ]
     },
     "metadata": {},
     "output_type": "display_data"
    }
   ],
   "source": [
    "display(data[data[\"Answer\"] == 0].iloc[:10])"
   ]
  },
  {
   "cell_type": "code",
   "execution_count": 9,
   "id": "hawaiian-thompson",
   "metadata": {},
   "outputs": [],
   "source": [
    "X = data[\"Question\"].to_numpy()\n",
    "y = data[\"Answer\"].to_numpy()"
   ]
  },
  {
   "cell_type": "raw",
   "id": "natural-lightweight",
   "metadata": {},
   "source": [
    "X = X.reshape(-1, 1)\n",
    "y = y.reshape(-1, 1)"
   ]
  },
  {
   "cell_type": "code",
   "execution_count": 10,
   "id": "selective-symphony",
   "metadata": {},
   "outputs": [],
   "source": [
    "X_train, X_test, y_train, y_test = train_test_split(X, y, test_size=0.2, random_state=42)"
   ]
  },
  {
   "cell_type": "markdown",
   "id": "representative-worcester",
   "metadata": {},
   "source": [
    "# Solving task"
   ]
  },
  {
   "cell_type": "code",
   "execution_count": 11,
   "id": "reserved-judgment",
   "metadata": {},
   "outputs": [],
   "source": [
    "cv=3\n",
    "scoring=[\"accuracy\", \"roc_auc\"]\n",
    "refit=\"roc_auc\""
   ]
  },
  {
   "cell_type": "code",
   "execution_count": 12,
   "id": "painted-arrangement",
   "metadata": {},
   "outputs": [],
   "source": [
    "results = {}\n",
    "metrics = [\"mean_test_\" + score for score in scoring]"
   ]
  },
  {
   "cell_type": "code",
   "execution_count": 13,
   "id": "flying-vermont",
   "metadata": {},
   "outputs": [],
   "source": [
    "def get_results(gs):\n",
    "    global results\n",
    "    name = \"__\".join([step[0] for step in gs.estimator.steps])\n",
    "    results[name] = {metric: round(gs.cv_results_[metric][gs.best_index_], 3) for metric in metrics}\n",
    "    results[name] = results[name] | {\"best_params\": gs.best_params_}\n",
    "    pprint(results[name])"
   ]
  },
  {
   "cell_type": "code",
   "execution_count": 14,
   "id": "adjacent-instrumentation",
   "metadata": {},
   "outputs": [],
   "source": [
    "def text_preprocess(x):\n",
    "    #x = x[0]\n",
    "    x = x.lower()\n",
    "    x = re.sub(r'https*\\S+', ' ', x)                           # mentions\n",
    "    x = re.sub(r'@\\S+', ' ', x)                                # links\n",
    "    x = re.sub(r'#\\S+', ' ', x)                                # hashtags\n",
    "    x = re.sub(r'\\'\\w+', '', x)                                # ticks and the next character\n",
    "    x = re.sub('[%s]' % re.escape(string.punctuation), ' ', x) # punctuation\n",
    "    x = re.sub(r'\\w*\\d+\\w*', '', x)                            # numbers\n",
    "    x = re.sub(r'\\s{2,}', ' ', x)                              # over spaces\n",
    "    x = x.replace('\\xad', '')                                  # \\xad\n",
    "    x = x.replace('\\t', '')                                    # \\t\n",
    "    x = x.replace('№', '')                                     # \\t\n",
    "    return x"
   ]
  },
  {
   "cell_type": "code",
   "execution_count": 15,
   "id": "assisted-mobile",
   "metadata": {},
   "outputs": [],
   "source": [
    "tfidfvectorizer__param_grid = {\n",
    "    \"tfidfvectorizer__ngram_range\": [(1, n) for n in range(1, 3)],\n",
    "    \"tfidfvectorizer__max_features\": [None, 100, 1000, 5000, 10000],\n",
    "    \"tfidfvectorizer__preprocessor\": [text_preprocess, None]\n",
    "}"
   ]
  },
  {
   "cell_type": "markdown",
   "id": "checked-conspiracy",
   "metadata": {},
   "source": [
    "## TfidfVectorizer -> MostCommonClassifier"
   ]
  },
  {
   "cell_type": "code",
   "execution_count": 16,
   "id": "infinite-sunrise",
   "metadata": {},
   "outputs": [],
   "source": [
    "class MostCommonClassifier(BaseEstimator, ClassifierMixin):\n",
    "\n",
    "    def __init__(self, sample_param=\"kek\"):\n",
    "        self.sample_param = sample_param\n",
    "\n",
    "    def fit(self, X, y):\n",
    "\n",
    "        self.classes_ = unique_labels(y)\n",
    "        unique, counts = np.unique(y, return_counts=True)\n",
    "        self.frequency = dict(zip(unique, counts))\n",
    "        self.probabilities = {}\n",
    "        for k, v in self.frequency.items():\n",
    "            self.probabilities[k] = v / sum(self.frequency.values())\n",
    "\n",
    "        return self\n",
    "    \n",
    "    def decision_function(self, X):\n",
    "\n",
    "        res = [0] * X.shape[0]\n",
    "        \n",
    "        return np.array(res)\n",
    "\n",
    "    def predict(self, X):\n",
    "\n",
    "        res = self.decision_function(X)\n",
    "        res = [1 if pred > 0.5 else 0 for pred in res]\n",
    "        \n",
    "        return np.array(res)"
   ]
  },
  {
   "cell_type": "code",
   "execution_count": 17,
   "id": "present-claim",
   "metadata": {},
   "outputs": [],
   "source": [
    "pipeline = make_pipeline(TfidfVectorizer(), MostCommonClassifier())\n",
    "\n",
    "param_grid = {}\n",
    "\n",
    "gs = GridSearchCV(pipeline, param_grid=param_grid, cv=cv, scoring=scoring, refit=refit, error_score=\"raise\", n_jobs=-1)"
   ]
  },
  {
   "cell_type": "code",
   "execution_count": 18,
   "id": "secret-capitol",
   "metadata": {
    "scrolled": true
   },
   "outputs": [
    {
     "data": {
      "text/plain": [
       "GridSearchCV(cv=3, error_score='raise',\n",
       "             estimator=Pipeline(steps=[('tfidfvectorizer', TfidfVectorizer()),\n",
       "                                       ('mostcommonclassifier',\n",
       "                                        MostCommonClassifier())]),\n",
       "             n_jobs=-1, param_grid={}, refit='roc_auc',\n",
       "             scoring=['accuracy', 'roc_auc'])"
      ]
     },
     "execution_count": 18,
     "metadata": {},
     "output_type": "execute_result"
    }
   ],
   "source": [
    "gs.fit(X, y)"
   ]
  },
  {
   "cell_type": "code",
   "execution_count": 19,
   "id": "twenty-professor",
   "metadata": {},
   "outputs": [
    {
     "name": "stdout",
     "output_type": "stream",
     "text": [
      "{'best_params': {}, 'mean_test_accuracy': 0.896, 'mean_test_roc_auc': 0.5}\n"
     ]
    }
   ],
   "source": [
    "get_results(gs)"
   ]
  },
  {
   "cell_type": "markdown",
   "id": "accepted-trust",
   "metadata": {},
   "source": [
    "## TfidfVectorizer -> ProbabilityClassifier"
   ]
  },
  {
   "cell_type": "code",
   "execution_count": 20,
   "id": "ignored-prison",
   "metadata": {},
   "outputs": [],
   "source": [
    "class ProbabilityClassifier(BaseEstimator, ClassifierMixin):\n",
    "\n",
    "    def __init__(self, sample_param=\"kek\"):\n",
    "        self.sample_param = sample_param\n",
    "\n",
    "    def fit(self, X, y):\n",
    "\n",
    "        self.classes_ = unique_labels(y)\n",
    "        unique, counts = np.unique(y, return_counts=True)\n",
    "        self.frequency = dict(zip(unique, counts))\n",
    "        self.probabilities = {}\n",
    "        for k, v in self.frequency.items():\n",
    "            self.probabilities[k] = v / sum(self.frequency.values())\n",
    "\n",
    "        return self\n",
    "\n",
    "    def decision_function(self, X):\n",
    "\n",
    "        res = []\n",
    "        for row in X:\n",
    "            res.append(np.random.choice(list(self.probabilities.keys()), p=list(self.probabilities.values())))\n",
    "        \n",
    "        return np.array(res)\n",
    "    \n",
    "    def predict(self, X):\n",
    "\n",
    "        res = self.decision_function(X)\n",
    "        res = [1 if pred > 0.5 else 0 for pred in res]\n",
    "        \n",
    "        return np.array(res)"
   ]
  },
  {
   "cell_type": "code",
   "execution_count": 21,
   "id": "thick-ecuador",
   "metadata": {},
   "outputs": [],
   "source": [
    "pipeline = make_pipeline(TfidfVectorizer(), ProbabilityClassifier())\n",
    "\n",
    "param_grid = {}\n",
    "\n",
    "gs = GridSearchCV(pipeline, param_grid=param_grid, cv=cv, scoring=scoring, refit=refit, error_score=\"raise\", n_jobs=-1)"
   ]
  },
  {
   "cell_type": "code",
   "execution_count": 22,
   "id": "endangered-titanium",
   "metadata": {
    "scrolled": true
   },
   "outputs": [
    {
     "data": {
      "text/plain": [
       "GridSearchCV(cv=3, error_score='raise',\n",
       "             estimator=Pipeline(steps=[('tfidfvectorizer', TfidfVectorizer()),\n",
       "                                       ('probabilityclassifier',\n",
       "                                        ProbabilityClassifier())]),\n",
       "             n_jobs=-1, param_grid={}, refit='roc_auc',\n",
       "             scoring=['accuracy', 'roc_auc'])"
      ]
     },
     "execution_count": 22,
     "metadata": {},
     "output_type": "execute_result"
    }
   ],
   "source": [
    "gs.fit(X, y)"
   ]
  },
  {
   "cell_type": "code",
   "execution_count": 23,
   "id": "russian-award",
   "metadata": {},
   "outputs": [
    {
     "name": "stdout",
     "output_type": "stream",
     "text": [
      "{'best_params': {}, 'mean_test_accuracy': 0.817, 'mean_test_roc_auc': 0.505}\n"
     ]
    }
   ],
   "source": [
    "get_results(gs)"
   ]
  },
  {
   "cell_type": "markdown",
   "id": "incorrect-mother",
   "metadata": {},
   "source": [
    "## TfidfVectorizer -> LogisticRegression"
   ]
  },
  {
   "cell_type": "code",
   "execution_count": 24,
   "id": "turkish-crawford",
   "metadata": {},
   "outputs": [],
   "source": [
    "pipeline = make_pipeline(TfidfVectorizer(),\n",
    "                         LogisticRegression())\n",
    "\n",
    "logisticregression__param_grid = {\n",
    "    \"logisticregression__class_weight\": [None, \"balanced\"]\n",
    "}\n",
    "\n",
    "param_grid = tfidfvectorizer__param_grid | logisticregression__param_grid\n",
    "\n",
    "gs = GridSearchCV(pipeline, param_grid=param_grid, cv=cv, scoring=scoring, refit=refit, error_score=\"raise\", n_jobs=-1)"
   ]
  },
  {
   "cell_type": "code",
   "execution_count": null,
   "id": "generic-sentence",
   "metadata": {
    "scrolled": true
   },
   "outputs": [],
   "source": [
    "gs.fit(X, y)"
   ]
  },
  {
   "cell_type": "code",
   "execution_count": null,
   "id": "killing-canyon",
   "metadata": {},
   "outputs": [],
   "source": [
    "get_results(gs)"
   ]
  },
  {
   "cell_type": "markdown",
   "id": "later-consortium",
   "metadata": {},
   "source": [
    "# Results"
   ]
  },
  {
   "cell_type": "code",
   "execution_count": null,
   "id": "protecting-california",
   "metadata": {},
   "outputs": [],
   "source": [
    "info = pd.DataFrame.from_dict(results, orient=\"index\").sort_values(by=\"mean_test_roc_auc\", ascending=False)\n",
    "display(info)"
   ]
  }
 ],
 "metadata": {
  "kernelspec": {
   "display_name": "Python 3",
   "language": "python",
   "name": "python3"
  },
  "language_info": {
   "codemirror_mode": {
    "name": "ipython",
    "version": 3
   },
   "file_extension": ".py",
   "mimetype": "text/x-python",
   "name": "python",
   "nbconvert_exporter": "python",
   "pygments_lexer": "ipython3",
   "version": "3.9.2"
  },
  "toc": {
   "base_numbering": 1,
   "nav_menu": {},
   "number_sections": true,
   "sideBar": true,
   "skip_h1_title": false,
   "title_cell": "Table of Contents",
   "title_sidebar": "Contents",
   "toc_cell": false,
   "toc_position": {
    "height": "calc(100% - 180px)",
    "left": "10px",
    "top": "150px",
    "width": "383.188px"
   },
   "toc_section_display": true,
   "toc_window_display": true
  }
 },
 "nbformat": 4,
 "nbformat_minor": 5
}
