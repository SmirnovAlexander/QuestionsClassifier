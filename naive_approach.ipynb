{
 "cells": [
  {
   "cell_type": "code",
   "execution_count": 1,
   "id": "funded-recruitment",
   "metadata": {},
   "outputs": [],
   "source": [
    "import pickle\n",
    "from pprint import pprint\n",
    "from tqdm import tqdm\n",
    "import re\n",
    "import string\n",
    "import numpy as np\n",
    "import pandas as pd\n",
    "import matplotlib.pyplot as plt\n",
    "\n",
    "import nltk\n",
    "\n",
    "from sklearn.metrics import accuracy_score, roc_auc_score\n",
    "\n",
    "from sklearn.model_selection import train_test_split\n",
    "from sklearn.model_selection import GridSearchCV\n",
    "\n",
    "from sklearn.pipeline import Pipeline\n",
    "from sklearn.pipeline import make_pipeline\n",
    "from sklearn.feature_extraction.text import TfidfVectorizer\n",
    "from sklearn.linear_model import LogisticRegression\n",
    "from sklearn.ensemble import GradientBoostingClassifier\n",
    "from sklearn.ensemble import AdaBoostClassifier\n",
    "from sklearn.ensemble import VotingClassifier\n",
    "\n",
    "from sklearn.base import BaseEstimator\n",
    "from sklearn.base import ClassifierMixin\n",
    "from sklearn.utils.multiclass import unique_labels\n",
    "\n",
    "pd.set_option('display.max_colwidth', None)"
   ]
  },
  {
   "cell_type": "markdown",
   "id": "fitted-feature",
   "metadata": {},
   "source": [
    "# Loading data"
   ]
  },
  {
   "cell_type": "code",
   "execution_count": 2,
   "id": "retained-fight",
   "metadata": {},
   "outputs": [],
   "source": [
    "questions = pd.read_csv(\"./data/data.csv\", delimiter=\";\")\n",
    "answers = pd.read_csv(\"./data/train.csv\", delimiter=\";\")"
   ]
  },
  {
   "cell_type": "code",
   "execution_count": 3,
   "id": "engaging-uruguay",
   "metadata": {},
   "outputs": [],
   "source": [
    "data = pd.merge(questions, answers, on=\"ID\")"
   ]
  },
  {
   "cell_type": "code",
   "execution_count": 4,
   "id": "czech-marine",
   "metadata": {},
   "outputs": [],
   "source": [
    "data[\"Question\"] = data[\"Question\"].astype(\"string\")"
   ]
  },
  {
   "cell_type": "markdown",
   "id": "actual-convention",
   "metadata": {},
   "source": [
    "# Analyzing data"
   ]
  },
  {
   "cell_type": "code",
   "execution_count": 5,
   "id": "educated-glasgow",
   "metadata": {},
   "outputs": [
    {
     "name": "stdout",
     "output_type": "stream",
     "text": [
      "(30000, 3)\n"
     ]
    }
   ],
   "source": [
    "print(data.shape)"
   ]
  },
  {
   "cell_type": "code",
   "execution_count": 6,
   "id": "immediate-companion",
   "metadata": {},
   "outputs": [
    {
     "data": {
      "image/png": "[encoded data removed]",
      "text/plain": [
       "<Figure size 432x288 with 1 Axes>"
      ]
     },
     "metadata": {
      "needs_background": "light"
     },
     "output_type": "display_data"
    }
   ],
   "source": [
    "plt.grid(True)\n",
    "plt.hist(data[\"Answer\"])\n",
    "plt.show()"
   ]
  },
  {
   "cell_type": "code",
   "execution_count": 7,
   "id": "figured-citizen",
   "metadata": {},
   "outputs": [
    {
     "data": {
      "text/html": [
       "<div>\n",
       "<style scoped>\n",
       "    .dataframe tbody tr th:only-of-type {\n",
       "        vertical-align: middle;\n",
       "    }\n",
       "\n",
       "    .dataframe tbody tr th {\n",
       "        vertical-align: top;\n",
       "    }\n",
       "\n",
       "    .dataframe thead th {\n",
       "        text-align: right;\n",
       "    }\n",
       "</style>\n",
       "<table border=\"1\" class=\"dataframe\">\n",
       "  <thead>\n",
       "    <tr style=\"text-align: right;\">\n",
       "      <th></th>\n",
       "      <th>ID</th>\n",
       "      <th>Question</th>\n",
       "      <th>Answer</th>\n",
       "    </tr>\n",
       "  </thead>\n",
       "  <tbody>\n",
       "    <tr>\n",
       "      <th>1</th>\n",
       "      <td>2</td>\n",
       "      <td>Как в химии обозначается свинец?</td>\n",
       "      <td>1</td>\n",
       "    </tr>\n",
       "    <tr>\n",
       "      <th>5</th>\n",
       "      <td>6</td>\n",
       "      <td>Какая эра геологической истории Земли относится к настоящему времени?</td>\n",
       "      <td>1</td>\n",
       "    </tr>\n",
       "    <tr>\n",
       "      <th>8</th>\n",
       "      <td>9</td>\n",
       "      <td>Какой из этих мультфильмов повествует о реально существовавшей собаке?</td>\n",
       "      <td>1</td>\n",
       "    </tr>\n",
       "    <tr>\n",
       "      <th>20</th>\n",
       "      <td>21</td>\n",
       "      <td>Как называется часть речи, обладающая свойствами глагола и прилагательного?</td>\n",
       "      <td>1</td>\n",
       "    </tr>\n",
       "    <tr>\n",
       "      <th>22</th>\n",
       "      <td>23</td>\n",
       "      <td>Когда была запущена «Википедия»?</td>\n",
       "      <td>1</td>\n",
       "    </tr>\n",
       "    <tr>\n",
       "      <th>41</th>\n",
       "      <td>42</td>\n",
       "      <td>Где находится яд у кобры?</td>\n",
       "      <td>1</td>\n",
       "    </tr>\n",
       "    <tr>\n",
       "      <th>45</th>\n",
       "      <td>46</td>\n",
       "      <td>Как зовут создателя паровой машины?</td>\n",
       "      <td>1</td>\n",
       "    </tr>\n",
       "    <tr>\n",
       "      <th>48</th>\n",
       "      <td>49</td>\n",
       "      <td>Сколько всего пальцев на лапах у кошек?</td>\n",
       "      <td>1</td>\n",
       "    </tr>\n",
       "    <tr>\n",
       "      <th>63</th>\n",
       "      <td>64</td>\n",
       "      <td>Сколько всего было выпущено серий сериала «Санта-Барбара»?</td>\n",
       "      <td>1</td>\n",
       "    </tr>\n",
       "    <tr>\n",
       "      <th>64</th>\n",
       "      <td>65</td>\n",
       "      <td>В каком году был поход Руси на Константинополь?</td>\n",
       "      <td>1</td>\n",
       "    </tr>\n",
       "  </tbody>\n",
       "</table>\n",
       "</div>"
      ],
      "text/plain": [
       "    ID  \\\n",
       "1    2   \n",
       "5    6   \n",
       "8    9   \n",
       "20  21   \n",
       "22  23   \n",
       "41  42   \n",
       "45  46   \n",
       "48  49   \n",
       "63  64   \n",
       "64  65   \n",
       "\n",
       "                                                                       Question  \\\n",
       "1                                              Как в химии обозначается свинец?   \n",
       "5         Какая эра геологической истории Земли относится к настоящему времени?   \n",
       "8        Какой из этих мультфильмов повествует о реально существовавшей собаке?   \n",
       "20  Как называется часть речи, обладающая свойствами глагола и прилагательного?   \n",
       "22                                             Когда была запущена «Википедия»?   \n",
       "41                                                    Где находится яд у кобры?   \n",
       "45                                          Как зовут создателя паровой машины?   \n",
       "48                                      Сколько всего пальцев на лапах у кошек?   \n",
       "63                   Сколько всего было выпущено серий сериала «Санта-Барбара»?   \n",
       "64                              В каком году был поход Руси на Константинополь?   \n",
       "\n",
       "    Answer  \n",
       "1        1  \n",
       "5        1  \n",
       "8        1  \n",
       "20       1  \n",
       "22       1  \n",
       "41       1  \n",
       "45       1  \n",
       "48       1  \n",
       "63       1  \n",
       "64       1  "
      ]
     },
     "metadata": {},
     "output_type": "display_data"
    }
   ],
   "source": [
    "display(data[data[\"Answer\"] == 1].iloc[:10])"
   ]
  },
  {
   "cell_type": "code",
   "execution_count": 8,
   "id": "norman-calvin",
   "metadata": {},
   "outputs": [
    {
     "data": {
      "text/html": [
       "<div>\n",
       "<style scoped>\n",
       "    .dataframe tbody tr th:only-of-type {\n",
       "        vertical-align: middle;\n",
       "    }\n",
       "\n",
       "    .dataframe tbody tr th {\n",
       "        vertical-align: top;\n",
       "    }\n",
       "\n",
       "    .dataframe thead th {\n",
       "        text-align: right;\n",
       "    }\n",
       "</style>\n",
       "<table border=\"1\" class=\"dataframe\">\n",
       "  <thead>\n",
       "    <tr style=\"text-align: right;\">\n",
       "      <th></th>\n",
       "      <th>ID</th>\n",
       "      <th>Question</th>\n",
       "      <th>Answer</th>\n",
       "    </tr>\n",
       "  </thead>\n",
       "  <tbody>\n",
       "    <tr>\n",
       "      <th>0</th>\n",
       "      <td>1</td>\n",
       "      <td>Как зовут лодочника на реке Стикс в древнегреческой мифологии?</td>\n",
       "      <td>0</td>\n",
       "    </tr>\n",
       "    <tr>\n",
       "      <th>2</th>\n",
       "      <td>3</td>\n",
       "      <td>Какой химический элемент преобладает в составе каменного угля?</td>\n",
       "      <td>0</td>\n",
       "    </tr>\n",
       "    <tr>\n",
       "      <th>3</th>\n",
       "      <td>4</td>\n",
       "      <td>Кто из перечисленных был пажом во времена Екатерины II?</td>\n",
       "      <td>0</td>\n",
       "    </tr>\n",
       "    <tr>\n",
       "      <th>4</th>\n",
       "      <td>5</td>\n",
       "      <td>Когда началась 2 мировая война?</td>\n",
       "      <td>0</td>\n",
       "    </tr>\n",
       "    <tr>\n",
       "      <th>6</th>\n",
       "      <td>7</td>\n",
       "      <td>Кто из животных может мурлыкать?</td>\n",
       "      <td>0</td>\n",
       "    </tr>\n",
       "    <tr>\n",
       "      <th>7</th>\n",
       "      <td>8</td>\n",
       "      <td>Что из перечисленного НЕ входит в национальную русскую кухню?</td>\n",
       "      <td>0</td>\n",
       "    </tr>\n",
       "    <tr>\n",
       "      <th>9</th>\n",
       "      <td>10</td>\n",
       "      <td>Кто написал повесть «Муму»</td>\n",
       "      <td>0</td>\n",
       "    </tr>\n",
       "    <tr>\n",
       "      <th>10</th>\n",
       "      <td>11</td>\n",
       "      <td>Что такое кульверт?</td>\n",
       "      <td>0</td>\n",
       "    </tr>\n",
       "    <tr>\n",
       "      <th>11</th>\n",
       "      <td>12</td>\n",
       "      <td>В какой воде меньше содержание примесей?</td>\n",
       "      <td>0</td>\n",
       "    </tr>\n",
       "    <tr>\n",
       "      <th>12</th>\n",
       "      <td>13</td>\n",
       "      <td>Сколько музыкантов в квинтете</td>\n",
       "      <td>0</td>\n",
       "    </tr>\n",
       "  </tbody>\n",
       "</table>\n",
       "</div>"
      ],
      "text/plain": [
       "    ID                                                        Question  Answer\n",
       "0    1  Как зовут лодочника на реке Стикс в древнегреческой мифологии?       0\n",
       "2    3  Какой химический элемент преобладает в составе каменного угля?       0\n",
       "3    4         Кто из перечисленных был пажом во времена Екатерины II?       0\n",
       "4    5                                 Когда началась 2 мировая война?       0\n",
       "6    7                                Кто из животных может мурлыкать?       0\n",
       "7    8   Что из перечисленного НЕ входит в национальную русскую кухню?       0\n",
       "9   10                                      Кто написал повесть «Муму»       0\n",
       "10  11                                             Что такое кульверт?       0\n",
       "11  12                        В какой воде меньше содержание примесей?       0\n",
       "12  13                                   Сколько музыкантов в квинтете       0"
      ]
     },
     "metadata": {},
     "output_type": "display_data"
    }
   ],
   "source": [
    "display(data[data[\"Answer\"] == 0].iloc[:10])"
   ]
  },
  {
   "cell_type": "code",
   "execution_count": 9,
   "id": "hawaiian-thompson",
   "metadata": {},
   "outputs": [],
   "source": [
    "X = data[\"Question\"].to_numpy()\n",
    "y = data[\"Answer\"].to_numpy()"
   ]
  },
  {
   "cell_type": "markdown",
   "id": "representative-worcester",
   "metadata": {},
   "source": [
    "# Solving task"
   ]
  },
  {
   "cell_type": "markdown",
   "id": "compressed-hayes",
   "metadata": {},
   "source": [
    "## Parameters"
   ]
  },
  {
   "cell_type": "code",
   "execution_count": 10,
   "id": "reserved-judgment",
   "metadata": {},
   "outputs": [],
   "source": [
    "cv = 2\n",
    "scoring = [\"accuracy\", \"roc_auc\"]\n",
    "refit = \"roc_auc\""
   ]
  },
  {
   "cell_type": "code",
   "execution_count": 11,
   "id": "painted-arrangement",
   "metadata": {},
   "outputs": [],
   "source": [
    "results = {}\n",
    "metrics = [\"mean_test_\" + score for score in scoring]"
   ]
  },
  {
   "cell_type": "markdown",
   "id": "rubber-catering",
   "metadata": {},
   "source": [
    "## Common functions"
   ]
  },
  {
   "cell_type": "code",
   "execution_count": 12,
   "id": "flying-vermont",
   "metadata": {},
   "outputs": [],
   "source": [
    "def get_results(gs):\n",
    "    global results\n",
    "    name = \"__\".join([step[0] for step in gs.estimator.steps])\n",
    "    results[name] = {metric: round(gs.cv_results_[metric][gs.best_index_], 3) for metric in metrics}\n",
    "    results[name] = results[name] | {\"best_params\": gs.best_params_}\n",
    "    pprint(results[name])"
   ]
  },
  {
   "cell_type": "code",
   "execution_count": 13,
   "id": "raised-toddler",
   "metadata": {},
   "outputs": [],
   "source": [
    "def predict(gs, name=\"\"):\n",
    "    \n",
    "    if name == \"\":\n",
    "        name = \"__\".join([step[0] for step in gs.estimator.steps])\n",
    "        \n",
    "    questions = pd.read_csv(\"./data/data.csv\", delimiter=\";\")\n",
    "    test = pd.read_csv(\"./data/test.csv\", delimiter=\";\")\n",
    "    data = pd.merge(questions, test, on=\"ID\")\n",
    "    prediction = gs.predict_proba(list(data[\"Question\"]))[:, 1]\n",
    "    data[\"prediction\"] = prediction\n",
    "    data[[\"ID\", \"prediction\"]].to_csv(f\"./output/{name}.csv\", index=False, header=False)"
   ]
  },
  {
   "cell_type": "code",
   "execution_count": 14,
   "id": "innocent-slide",
   "metadata": {},
   "outputs": [],
   "source": [
    "def save_model(gs):\n",
    "    \n",
    "    name = \"__\".join([step[0] for step in gs.estimator.steps])\n",
    "    with open(f\"./models/{name}.pickle\", \"wb\") as f:\n",
    "        pickle.dump(gs, f)"
   ]
  },
  {
   "cell_type": "markdown",
   "id": "canadian-entity",
   "metadata": {},
   "source": [
    "## Text preparation"
   ]
  },
  {
   "cell_type": "code",
   "execution_count": 15,
   "id": "floral-opinion",
   "metadata": {},
   "outputs": [],
   "source": [
    "def text_preprocess(x):\n",
    "    #x = x[0]\n",
    "    x = x.lower()\n",
    "    x = re.sub(r'https*\\S+', ' ', x)                           # mentions\n",
    "    x = re.sub(r'@\\S+', ' ', x)                                # links\n",
    "    x = re.sub(r'#\\S+', ' ', x)                                # hashtags\n",
    "    x = re.sub(r'\\'\\w+', '', x)                                # ticks and the next character\n",
    "    x = re.sub('[%s]' % re.escape(string.punctuation), ' ', x) # punctuation\n",
    "    x = re.sub(r'\\w*\\d+\\w*', '', x)                            # numbers\n",
    "    x = re.sub(r'\\s{2,}', ' ', x)                              # over spaces\n",
    "    x = x.replace('\\xad', '')                                  # \\xad\n",
    "    x = x.replace('\\t', '')                                    # \\t\n",
    "    x = x.replace('№', '')                                     # \\t\n",
    "    return x"
   ]
  },
  {
   "cell_type": "code",
   "execution_count": 16,
   "id": "binding-greenhouse",
   "metadata": {},
   "outputs": [],
   "source": [
    "\"\"\"\n",
    "tfidfvectorizer__param_grid = {\n",
    "    \"tfidfvectorizer__ngram_range\": [(1, 2), (1, 3), (1, 5), (1, 7)],\n",
    "    \"tfidfvectorizer__analyzer\": ['char','word','char_wb'],\n",
    "    \"tfidfvectorizer__max_features\": [None, 100, 1000, 5000, 10000],\n",
    "    \"tfidfvectorizer__preprocessor\": [text_preprocess, None],\n",
    "    \"tfidfvectorizer__max_df\": [0.25, 0.5, 0.75, 1.],\n",
    "}\n",
    "\"\"\"\n",
    "\n",
    "tfidfvectorizer__param_grid = {\n",
    "    \"tfidfvectorizer__ngram_range\": [(1, 2)],\n",
    "    \"tfidfvectorizer__analyzer\": ['char'],\n",
    "    \"tfidfvectorizer__max_features\": [1000],\n",
    "    \"tfidfvectorizer__preprocessor\": [None],\n",
    "    \"tfidfvectorizer__max_df\": [1.],\n",
    "}"
   ]
  },
  {
   "cell_type": "markdown",
   "id": "frequent-louisiana",
   "metadata": {},
   "source": [
    "## TfidfVectorizer -> MostCommonClassifier"
   ]
  },
  {
   "cell_type": "code",
   "execution_count": 17,
   "id": "infinite-sunrise",
   "metadata": {},
   "outputs": [],
   "source": [
    "class MostCommonClassifier(BaseEstimator, ClassifierMixin):\n",
    "\n",
    "    def __init__(self, sample_param=\"kek\"):\n",
    "        self.sample_param = sample_param\n",
    "\n",
    "    def fit(self, X, y):\n",
    "\n",
    "        self.classes_ = unique_labels(y)\n",
    "        unique, counts = np.unique(y, return_counts=True)\n",
    "        self.frequency = dict(zip(unique, counts))\n",
    "        self.probabilities = {}\n",
    "        for k, v in self.frequency.items():\n",
    "            self.probabilities[k] = v / sum(self.frequency.values())\n",
    "\n",
    "        return self\n",
    "    \n",
    "    def decision_function(self, X):\n",
    "\n",
    "        res = [0] * X.shape[0]\n",
    "        \n",
    "        return np.array(res)\n",
    "\n",
    "    def predict(self, X):\n",
    "\n",
    "        res = self.decision_function(X)\n",
    "        res = [1 if pred > 0.5 else 0 for pred in res]\n",
    "        \n",
    "        return np.array(res)\n",
    "    \n",
    "    def predict_proba(self, X):\n",
    "\n",
    "        res = self.decision_function(X)\n",
    "        res = [[1-pred, pred] for pred in res]\n",
    "        \n",
    "        return np.array(res)"
   ]
  },
  {
   "cell_type": "code",
   "execution_count": 18,
   "id": "present-claim",
   "metadata": {},
   "outputs": [],
   "source": [
    "pipeline = make_pipeline(TfidfVectorizer(), MostCommonClassifier())\n",
    "\n",
    "param_grid = {}\n",
    "\n",
    "gs = GridSearchCV(pipeline, param_grid=param_grid, cv=cv, scoring=scoring, refit=refit, error_score=\"raise\", n_jobs=-1)"
   ]
  },
  {
   "cell_type": "code",
   "execution_count": 19,
   "id": "secret-capitol",
   "metadata": {
    "scrolled": true
   },
   "outputs": [
    {
     "data": {
      "text/plain": [
       "GridSearchCV(cv=2, error_score='raise',\n",
       "             estimator=Pipeline(steps=[('tfidfvectorizer', TfidfVectorizer()),\n",
       "                                       ('mostcommonclassifier',\n",
       "                                        MostCommonClassifier())]),\n",
       "             n_jobs=-1, param_grid={}, refit='roc_auc',\n",
       "             scoring=['accuracy', 'roc_auc'])"
      ]
     },
     "execution_count": 19,
     "metadata": {},
     "output_type": "execute_result"
    }
   ],
   "source": [
    "gs.fit(X, y)"
   ]
  },
  {
   "cell_type": "code",
   "execution_count": 20,
   "id": "twenty-professor",
   "metadata": {
    "scrolled": true
   },
   "outputs": [
    {
     "name": "stdout",
     "output_type": "stream",
     "text": [
      "{'best_params': {}, 'mean_test_accuracy': 0.896, 'mean_test_roc_auc': 0.5}\n"
     ]
    }
   ],
   "source": [
    "get_results(gs)"
   ]
  },
  {
   "cell_type": "code",
   "execution_count": 21,
   "id": "direct-conclusion",
   "metadata": {},
   "outputs": [],
   "source": [
    "predict(gs)"
   ]
  },
  {
   "cell_type": "code",
   "execution_count": 22,
   "id": "outside-powder",
   "metadata": {},
   "outputs": [],
   "source": [
    "save_model(gs)"
   ]
  },
  {
   "cell_type": "markdown",
   "id": "accepted-trust",
   "metadata": {},
   "source": [
    "## TfidfVectorizer -> ProbabilityClassifier"
   ]
  },
  {
   "cell_type": "code",
   "execution_count": 23,
   "id": "ignored-prison",
   "metadata": {},
   "outputs": [],
   "source": [
    "class ProbabilityClassifier(BaseEstimator, ClassifierMixin):\n",
    "\n",
    "    def __init__(self, sample_param=\"kek\"):\n",
    "        self.sample_param = sample_param\n",
    "\n",
    "    def fit(self, X, y):\n",
    "\n",
    "        self.classes_ = unique_labels(y)\n",
    "        unique, counts = np.unique(y, return_counts=True)\n",
    "        self.frequency = dict(zip(unique, counts))\n",
    "        self.probabilities = {}\n",
    "        for k, v in self.frequency.items():\n",
    "            self.probabilities[k] = v / sum(self.frequency.values())\n",
    "\n",
    "        return self\n",
    "\n",
    "    def decision_function(self, X):\n",
    "\n",
    "        res = []\n",
    "        for row in X:\n",
    "            res.append(np.random.choice(list(self.probabilities.keys()), p=list(self.probabilities.values())))\n",
    "        \n",
    "        return np.array(res)\n",
    "    \n",
    "    def predict(self, X):\n",
    "\n",
    "        res = self.decision_function(X)\n",
    "        res = [1 if pred > 0.5 else 0 for pred in res]\n",
    "        \n",
    "        return np.array(res)\n",
    "    \n",
    "    def predict_proba(self, X):\n",
    "\n",
    "        res = self.decision_function(X)\n",
    "        res = [[1-pred, pred] for pred in res]\n",
    "        \n",
    "        return np.array(res)"
   ]
  },
  {
   "cell_type": "code",
   "execution_count": 24,
   "id": "thick-ecuador",
   "metadata": {},
   "outputs": [],
   "source": [
    "pipeline = make_pipeline(TfidfVectorizer(), ProbabilityClassifier())\n",
    "\n",
    "param_grid = {}\n",
    "\n",
    "gs = GridSearchCV(pipeline, param_grid=param_grid, cv=cv, scoring=scoring, refit=refit, error_score=\"raise\", n_jobs=-1)"
   ]
  },
  {
   "cell_type": "code",
   "execution_count": 25,
   "id": "endangered-titanium",
   "metadata": {
    "scrolled": true
   },
   "outputs": [
    {
     "data": {
      "text/plain": [
       "GridSearchCV(cv=2, error_score='raise',\n",
       "             estimator=Pipeline(steps=[('tfidfvectorizer', TfidfVectorizer()),\n",
       "                                       ('probabilityclassifier',\n",
       "                                        ProbabilityClassifier())]),\n",
       "             n_jobs=-1, param_grid={}, refit='roc_auc',\n",
       "             scoring=['accuracy', 'roc_auc'])"
      ]
     },
     "execution_count": 25,
     "metadata": {},
     "output_type": "execute_result"
    }
   ],
   "source": [
    "gs.fit(X, y)"
   ]
  },
  {
   "cell_type": "code",
   "execution_count": 26,
   "id": "russian-award",
   "metadata": {},
   "outputs": [
    {
     "name": "stdout",
     "output_type": "stream",
     "text": [
      "{'best_params': {}, 'mean_test_accuracy': 0.811, 'mean_test_roc_auc': 0.502}\n"
     ]
    }
   ],
   "source": [
    "get_results(gs)"
   ]
  },
  {
   "cell_type": "code",
   "execution_count": 27,
   "id": "thrown-quilt",
   "metadata": {},
   "outputs": [],
   "source": [
    "predict(gs)"
   ]
  },
  {
   "cell_type": "code",
   "execution_count": 28,
   "id": "supported-diversity",
   "metadata": {},
   "outputs": [],
   "source": [
    "save_model(gs)"
   ]
  },
  {
   "cell_type": "markdown",
   "id": "incorrect-mother",
   "metadata": {},
   "source": [
    "## TfidfVectorizer -> LogisticRegression"
   ]
  },
  {
   "cell_type": "code",
   "execution_count": 29,
   "id": "respiratory-profit",
   "metadata": {},
   "outputs": [],
   "source": [
    "pipeline = make_pipeline(TfidfVectorizer(),\n",
    "                         LogisticRegression())\n",
    "\n",
    "\"\"\"\n",
    "logisticregression__param_grid = {\n",
    "    \"logisticregression__class_weight\": [None, \"balanced\"],\n",
    "    'logisticregression__C': [0.001, 0.01, 0.1, 1, 10, 100, 1000],\n",
    "    'logisticregression__penalty': ['l2'],\n",
    "    'logisticregression__max_iter': list(range(100,800,100)),\n",
    "    'logisticregression__solver': ['newton-cg', 'lbfgs', 'liblinear', 'sag', 'saga']\n",
    "}\n",
    "\"\"\"\n",
    "\n",
    "logisticregression__param_grid = {\n",
    "    \"logisticregression__class_weight\": [\"balanced\"],\n",
    "    'logisticregression__C': [1],\n",
    "    'logisticregression__penalty': ['l2'],\n",
    "    'logisticregression__max_iter': [100],\n",
    "    'logisticregression__solver': ['newton-cg']\n",
    "}\n",
    "\n",
    "param_grid = tfidfvectorizer__param_grid | logisticregression__param_grid\n",
    "\n",
    "gs = GridSearchCV(pipeline, param_grid=param_grid, cv=cv, scoring=scoring, refit=refit, error_score=\"raise\", n_jobs=-1, verbose=10)"
   ]
  },
  {
   "cell_type": "code",
   "execution_count": 30,
   "id": "norwegian-receiver",
   "metadata": {},
   "outputs": [
    {
     "name": "stdout",
     "output_type": "stream",
     "text": [
      "Fitting 2 folds for each of 1 candidates, totalling 2 fits\n",
      "CPU times: user 1.83 s, sys: 25.1 ms, total: 1.85 s\n",
      "Wall time: 4.1 s\n"
     ]
    },
    {
     "data": {
      "text/plain": [
       "GridSearchCV(cv=2, error_score='raise',\n",
       "             estimator=Pipeline(steps=[('tfidfvectorizer', TfidfVectorizer()),\n",
       "                                       ('logisticregression',\n",
       "                                        LogisticRegression())]),\n",
       "             n_jobs=-1,\n",
       "             param_grid={'logisticregression__C': [1],\n",
       "                         'logisticregression__class_weight': ['balanced'],\n",
       "                         'logisticregression__max_iter': [100],\n",
       "                         'logisticregression__penalty': ['l2'],\n",
       "                         'logisticregression__solver': ['newton-cg'],\n",
       "                         'tfidfvectorizer__analyzer': ['char'],\n",
       "                         'tfidfvectorizer__max_df': [1.0],\n",
       "                         'tfidfvectorizer__max_features': [1000],\n",
       "                         'tfidfvectorizer__ngram_range': [(1, 2)],\n",
       "                         'tfidfvectorizer__preprocessor': [None]},\n",
       "             refit='roc_auc', scoring=['accuracy', 'roc_auc'], verbose=10)"
      ]
     },
     "execution_count": 30,
     "metadata": {},
     "output_type": "execute_result"
    }
   ],
   "source": [
    "%%time\n",
    "gs.fit(X, y)"
   ]
  },
  {
   "cell_type": "code",
   "execution_count": 31,
   "id": "defensive-narrative",
   "metadata": {},
   "outputs": [
    {
     "name": "stdout",
     "output_type": "stream",
     "text": [
      "{'best_params': {'logisticregression__C': 1,\n",
      "                 'logisticregression__class_weight': 'balanced',\n",
      "                 'logisticregression__max_iter': 100,\n",
      "                 'logisticregression__penalty': 'l2',\n",
      "                 'logisticregression__solver': 'newton-cg',\n",
      "                 'tfidfvectorizer__analyzer': 'char',\n",
      "                 'tfidfvectorizer__max_df': 1.0,\n",
      "                 'tfidfvectorizer__max_features': 1000,\n",
      "                 'tfidfvectorizer__ngram_range': (1, 2),\n",
      "                 'tfidfvectorizer__preprocessor': None},\n",
      " 'mean_test_accuracy': 0.69,\n",
      " 'mean_test_roc_auc': 0.749}\n"
     ]
    }
   ],
   "source": [
    "get_results(gs)"
   ]
  },
  {
   "cell_type": "code",
   "execution_count": 32,
   "id": "amazing-skirt",
   "metadata": {},
   "outputs": [
    {
     "data": {
      "text/plain": [
       "array([ 0.19367688,  0.89398019,  0.79259566, ...,  0.47340612,\n",
       "       -0.53801877, -0.17541565])"
      ]
     },
     "execution_count": 32,
     "metadata": {},
     "output_type": "execute_result"
    }
   ],
   "source": [
    "gs.decision_function(X)"
   ]
  },
  {
   "cell_type": "code",
   "execution_count": 33,
   "id": "vital-conjunction",
   "metadata": {},
   "outputs": [
    {
     "data": {
      "text/plain": [
       "array([[0.45173157, 0.54826843],\n",
       "       [0.29028914, 0.70971086],\n",
       "       [0.3116116 , 0.6883884 ],\n",
       "       ...,\n",
       "       [0.38381038, 0.61618962],\n",
       "       [0.63135141, 0.36864859],\n",
       "       [0.54374181, 0.45625819]])"
      ]
     },
     "execution_count": 33,
     "metadata": {},
     "output_type": "execute_result"
    }
   ],
   "source": [
    "gs.predict_proba(X)"
   ]
  },
  {
   "cell_type": "code",
   "execution_count": 34,
   "id": "measured-journey",
   "metadata": {},
   "outputs": [],
   "source": [
    "predict(gs)"
   ]
  },
  {
   "cell_type": "code",
   "execution_count": 35,
   "id": "double-decrease",
   "metadata": {},
   "outputs": [],
   "source": [
    "save_model(gs)"
   ]
  },
  {
   "cell_type": "markdown",
   "id": "little-definition",
   "metadata": {},
   "source": [
    "## TfidfVectorizer -> GradientBoostingClassifier"
   ]
  },
  {
   "cell_type": "code",
   "execution_count": 36,
   "id": "composed-harvard",
   "metadata": {},
   "outputs": [],
   "source": [
    "pipeline = make_pipeline(TfidfVectorizer(),\n",
    "                         GradientBoostingClassifier())\n",
    "\n",
    "\"\"\"\n",
    "gradientboostingclassifier__param_grid = {\n",
    "    \"gradientboostingclassifier__learning_rate\": range(0.05, 0.21. 0.05),\n",
    "    \"gradientboostingclassifier__n_estimators\": range(20, 100, 10),\n",
    "    \"gradientboostingclassifier__max_depth\": range(2, 8, 1),\n",
    "    \"gradientboostingclassifier__min_samples_split\": range(150, 901, 150),\n",
    "    \"gradientboostingclassifier__min_samples_leaf\": range(20, 41, 5),\n",
    "    \"gradientboostingclassifier__max_features\": range(20, 101, 10),\n",
    "    \"gradientboostingclassifier__subsample\": [0.25, 0.5, 0.75, 1.],\n",
    "    \"gradientboostingclassifier__random_state\": [5, None],\n",
    "}\n",
    "\"\"\"\n",
    "\n",
    "gradientboostingclassifier__param_grid = {\n",
    "    \"gradientboostingclassifier__learning_rate\": [0.2],\n",
    "    \"gradientboostingclassifier__n_estimators\": [50],\n",
    "    \"gradientboostingclassifier__max_depth\": [5],\n",
    "    \"gradientboostingclassifier__min_samples_split\": [750],\n",
    "    \"gradientboostingclassifier__min_samples_leaf\": [35],\n",
    "    \"gradientboostingclassifier__max_features\": [60],\n",
    "    \"gradientboostingclassifier__subsample\": [1.],\n",
    "    \"gradientboostingclassifier__random_state\": [5],\n",
    "}\n",
    "\n",
    "param_grid = tfidfvectorizer__param_grid | gradientboostingclassifier__param_grid\n",
    "\n",
    "gs = GridSearchCV(pipeline, param_grid=param_grid, cv=cv, scoring=scoring, refit=refit, error_score=\"raise\", n_jobs=-1, verbose=10)"
   ]
  },
  {
   "cell_type": "code",
   "execution_count": 37,
   "id": "electric-craft",
   "metadata": {
    "scrolled": true
   },
   "outputs": [
    {
     "name": "stdout",
     "output_type": "stream",
     "text": [
      "Fitting 2 folds for each of 1 candidates, totalling 2 fits\n"
     ]
    },
    {
     "data": {
      "text/plain": [
       "GridSearchCV(cv=2, error_score='raise',\n",
       "             estimator=Pipeline(steps=[('tfidfvectorizer', TfidfVectorizer()),\n",
       "                                       ('gradientboostingclassifier',\n",
       "                                        GradientBoostingClassifier())]),\n",
       "             n_jobs=-1,\n",
       "             param_grid={'gradientboostingclassifier__learning_rate': [0.2],\n",
       "                         'gradientboostingclassifier__max_depth': [5],\n",
       "                         'gradientboostingclassifier__max_features': [60],\n",
       "                         'gradientboostingclass...\n",
       "                         'gradientboostingclassifier__n_estimators': [50],\n",
       "                         'gradientboostingclassifier__random_state': [5],\n",
       "                         'gradientboostingclassifier__subsample': [1.0],\n",
       "                         'tfidfvectorizer__analyzer': ['char'],\n",
       "                         'tfidfvectorizer__max_df': [1.0],\n",
       "                         'tfidfvectorizer__max_features': [1000],\n",
       "                         'tfidfvectorizer__ngram_range': [(1, 2)],\n",
       "                         'tfidfvectorizer__preprocessor': [None]},\n",
       "             refit='roc_auc', scoring=['accuracy', 'roc_auc'], verbose=10)"
      ]
     },
     "execution_count": 37,
     "metadata": {},
     "output_type": "execute_result"
    }
   ],
   "source": [
    "gs.fit(X, y)"
   ]
  },
  {
   "cell_type": "code",
   "execution_count": 38,
   "id": "changed-vertex",
   "metadata": {
    "scrolled": true
   },
   "outputs": [
    {
     "name": "stdout",
     "output_type": "stream",
     "text": [
      "{'best_params': {'gradientboostingclassifier__learning_rate': 0.2,\n",
      "                 'gradientboostingclassifier__max_depth': 5,\n",
      "                 'gradientboostingclassifier__max_features': 60,\n",
      "                 'gradientboostingclassifier__min_samples_leaf': 35,\n",
      "                 'gradientboostingclassifier__min_samples_split': 750,\n",
      "                 'gradientboostingclassifier__n_estimators': 50,\n",
      "                 'gradientboostingclassifier__random_state': 5,\n",
      "                 'gradientboostingclassifier__subsample': 1.0,\n",
      "                 'tfidfvectorizer__analyzer': 'char',\n",
      "                 'tfidfvectorizer__max_df': 1.0,\n",
      "                 'tfidfvectorizer__max_features': 1000,\n",
      "                 'tfidfvectorizer__ngram_range': (1, 2),\n",
      "                 'tfidfvectorizer__preprocessor': None},\n",
      " 'mean_test_accuracy': 0.896,\n",
      " 'mean_test_roc_auc': 0.776}\n"
     ]
    }
   ],
   "source": [
    "get_results(gs)"
   ]
  },
  {
   "cell_type": "code",
   "execution_count": 39,
   "id": "swiss-saint",
   "metadata": {},
   "outputs": [],
   "source": [
    "predict(gs)"
   ]
  },
  {
   "cell_type": "code",
   "execution_count": 40,
   "id": "natural-sympathy",
   "metadata": {},
   "outputs": [],
   "source": [
    "save_model(gs)"
   ]
  },
  {
   "cell_type": "markdown",
   "id": "checked-humanity",
   "metadata": {},
   "source": [
    "## TfidfVectorizer -> AdaBoostClassifier"
   ]
  },
  {
   "cell_type": "code",
   "execution_count": 41,
   "id": "excited-document",
   "metadata": {},
   "outputs": [],
   "source": [
    "pipeline = make_pipeline(TfidfVectorizer(),\n",
    "                         AdaBoostClassifier())\n",
    "\n",
    "\"\"\"\n",
    "adaboostclassifier__param_grid = {\n",
    "    \"adaboostclassifier__n_estimators\": range(120, 151, 5),\n",
    "    \"adaboostclassifier__learning_rate\": [1e-3, 1e-2, 1e-1, 1],\n",
    "    \"adaboostclassifier__random_state\": [10, None],\n",
    "}\n",
    "\"\"\"\n",
    "\n",
    "adaboostclassifier__param_grid = {\n",
    "    \"adaboostclassifier__n_estimators\": [145],\n",
    "    \"adaboostclassifier__learning_rate\": [1e-1],\n",
    "    \"adaboostclassifier__random_state\": [None],\n",
    "}\n",
    "\n",
    "param_grid = tfidfvectorizer__param_grid | adaboostclassifier__param_grid\n",
    "\n",
    "gs = GridSearchCV(pipeline, param_grid=param_grid, cv=cv, scoring=scoring, refit=refit, error_score=\"raise\", n_jobs=-1, verbose=10)"
   ]
  },
  {
   "cell_type": "code",
   "execution_count": 42,
   "id": "alternate-twist",
   "metadata": {
    "scrolled": false
   },
   "outputs": [
    {
     "name": "stdout",
     "output_type": "stream",
     "text": [
      "Fitting 2 folds for each of 1 candidates, totalling 2 fits\n"
     ]
    },
    {
     "data": {
      "text/plain": [
       "GridSearchCV(cv=2, error_score='raise',\n",
       "             estimator=Pipeline(steps=[('tfidfvectorizer', TfidfVectorizer()),\n",
       "                                       ('adaboostclassifier',\n",
       "                                        AdaBoostClassifier())]),\n",
       "             n_jobs=-1,\n",
       "             param_grid={'adaboostclassifier__learning_rate': [0.1],\n",
       "                         'adaboostclassifier__n_estimators': [145],\n",
       "                         'adaboostclassifier__random_state': [None],\n",
       "                         'tfidfvectorizer__analyzer': ['char'],\n",
       "                         'tfidfvectorizer__max_df': [1.0],\n",
       "                         'tfidfvectorizer__max_features': [1000],\n",
       "                         'tfidfvectorizer__ngram_range': [(1, 2)],\n",
       "                         'tfidfvectorizer__preprocessor': [None]},\n",
       "             refit='roc_auc', scoring=['accuracy', 'roc_auc'], verbose=10)"
      ]
     },
     "execution_count": 42,
     "metadata": {},
     "output_type": "execute_result"
    }
   ],
   "source": [
    "gs.fit(X, y)"
   ]
  },
  {
   "cell_type": "code",
   "execution_count": 43,
   "id": "married-perfume",
   "metadata": {
    "scrolled": true
   },
   "outputs": [
    {
     "name": "stdout",
     "output_type": "stream",
     "text": [
      "{'best_params': {'adaboostclassifier__learning_rate': 0.1,\n",
      "                 'adaboostclassifier__n_estimators': 145,\n",
      "                 'adaboostclassifier__random_state': None,\n",
      "                 'tfidfvectorizer__analyzer': 'char',\n",
      "                 'tfidfvectorizer__max_df': 1.0,\n",
      "                 'tfidfvectorizer__max_features': 1000,\n",
      "                 'tfidfvectorizer__ngram_range': (1, 2),\n",
      "                 'tfidfvectorizer__preprocessor': None},\n",
      " 'mean_test_accuracy': 0.896,\n",
      " 'mean_test_roc_auc': 0.775}\n"
     ]
    }
   ],
   "source": [
    "get_results(gs)"
   ]
  },
  {
   "cell_type": "code",
   "execution_count": 44,
   "id": "vietnamese-processing",
   "metadata": {},
   "outputs": [],
   "source": [
    "predict(gs)"
   ]
  },
  {
   "cell_type": "code",
   "execution_count": 45,
   "id": "certain-generator",
   "metadata": {},
   "outputs": [],
   "source": [
    "save_model(gs)"
   ]
  },
  {
   "cell_type": "markdown",
   "id": "civic-glance",
   "metadata": {},
   "source": [
    "## TfidfVectorizer -> VotingClassifier"
   ]
  },
  {
   "cell_type": "code",
   "execution_count": 46,
   "id": "falling-brother",
   "metadata": {},
   "outputs": [],
   "source": [
    "pipeline = Pipeline([\n",
    "    ('tfidfvectorizer', TfidfVectorizer()),    \n",
    "    ('votingclassifier', VotingClassifier(\n",
    "        estimators=[(\"gradientboostingclassifier\", GradientBoostingClassifier()), \n",
    "                    (\"logisticregression\", LogisticRegression()),\n",
    "                    (\"adaboostclassifier\", AdaBoostClassifier())\n",
    "               ]))\n",
    "])\n",
    "\n",
    "logisticregression__param_grid = {\n",
    "    \"votingclassifier__logisticregression__class_weight\": [\"balanced\"],\n",
    "    \"votingclassifier__logisticregression__C\": [1],\n",
    "    \"votingclassifier__logisticregression__penalty\": ['l2'],\n",
    "    \"votingclassifier__logisticregression__max_iter\": [100],\n",
    "    \"votingclassifier__logisticregression__solver\": ['newton-cg']\n",
    "}\n",
    "\n",
    "gradientboostingclassifier__param_grid = {\n",
    "    \"votingclassifier__gradientboostingclassifier__learning_rate\": [0.2],\n",
    "    \"votingclassifier__gradientboostingclassifier__n_estimators\": [50],\n",
    "    \"votingclassifier__gradientboostingclassifier__max_depth\": [5],\n",
    "    \"votingclassifier__gradientboostingclassifier__min_samples_split\": [750],\n",
    "    \"votingclassifier__gradientboostingclassifier__min_samples_leaf\": [35],\n",
    "    \"votingclassifier__gradientboostingclassifier__max_features\": [60],\n",
    "    \"votingclassifier__gradientboostingclassifier__subsample\": [1.],\n",
    "    \"votingclassifier__gradientboostingclassifier__random_state\": [5],\n",
    "}\n",
    "\n",
    "adaboostclassifier__param_grid = {\n",
    "    \"votingclassifier__adaboostclassifier__n_estimators\": [145],\n",
    "    \"votingclassifier__adaboostclassifier__learning_rate\": [1e-1],\n",
    "    \"votingclassifier__adaboostclassifier__random_state\": [None],\n",
    "}\n",
    "\n",
    "votingclassifier__param_grid = {\n",
    "    \"votingclassifier__voting\": [\"soft\"],\n",
    "    \"votingclassifier__weights\": [[1, 1, 1]],\n",
    "}\n",
    "\n",
    "param_grid = tfidfvectorizer__param_grid | votingclassifier__param_grid | logisticregression__param_grid | gradientboostingclassifier__param_grid |  adaboostclassifier__param_grid\n",
    "\n",
    "gs = GridSearchCV(pipeline, param_grid=param_grid, cv=cv, scoring=scoring, refit=refit, error_score=\"raise\", n_jobs=-1, verbose=10)"
   ]
  },
  {
   "cell_type": "code",
   "execution_count": 47,
   "id": "sophisticated-decision",
   "metadata": {
    "scrolled": false
   },
   "outputs": [
    {
     "name": "stdout",
     "output_type": "stream",
     "text": [
      "Fitting 2 folds for each of 1 candidates, totalling 2 fits\n"
     ]
    },
    {
     "data": {
      "text/plain": [
       "GridSearchCV(cv=2, error_score='raise',\n",
       "             estimator=Pipeline(steps=[('tfidfvectorizer', TfidfVectorizer()),\n",
       "                                       ('votingclassifier',\n",
       "                                        VotingClassifier(estimators=[('gradientboostingclassifier',\n",
       "                                                                      GradientBoostingClassifier()),\n",
       "                                                                     ('logisticregression',\n",
       "                                                                      LogisticRegression()),\n",
       "                                                                     ('adaboostclassifier',\n",
       "                                                                      AdaBoostClassifier())]))]),\n",
       "             n_jobs=-1,\n",
       "             param_grid={'tfidfvectorizer__analyz...\n",
       "                         'votingclassifier__logisticregression__class_weight': ['balanced'],\n",
       "                         'votingclassifier__logisticregression__max_iter': [100],\n",
       "                         'votingclassifier__logisticregression__penalty': ['l2'],\n",
       "                         'votingclassifier__logisticregression__solver': ['newton-cg'],\n",
       "                         'votingclassifier__voting': ['soft'],\n",
       "                         'votingclassifier__weights': [[1, 1, 1]]},\n",
       "             refit='roc_auc', scoring=['accuracy', 'roc_auc'], verbose=10)"
      ]
     },
     "execution_count": 47,
     "metadata": {},
     "output_type": "execute_result"
    }
   ],
   "source": [
    "gs.fit(X, y)"
   ]
  },
  {
   "cell_type": "code",
   "execution_count": 48,
   "id": "acoustic-guarantee",
   "metadata": {
    "scrolled": true
   },
   "outputs": [
    {
     "name": "stdout",
     "output_type": "stream",
     "text": [
      "{'best_params': {'tfidfvectorizer__analyzer': 'char',\n",
      "                 'tfidfvectorizer__max_df': 1.0,\n",
      "                 'tfidfvectorizer__max_features': 1000,\n",
      "                 'tfidfvectorizer__ngram_range': (1, 2),\n",
      "                 'tfidfvectorizer__preprocessor': None,\n",
      "                 'votingclassifier__adaboostclassifier__learning_rate': 0.1,\n",
      "                 'votingclassifier__adaboostclassifier__n_estimators': 145,\n",
      "                 'votingclassifier__adaboostclassifier__random_state': None,\n",
      "                 'votingclassifier__gradientboostingclassifier__learning_rate': 0.2,\n",
      "                 'votingclassifier__gradientboostingclassifier__max_depth': 5,\n",
      "                 'votingclassifier__gradientboostingclassifier__max_features': 60,\n",
      "                 'votingclassifier__gradientboostingclassifier__min_samples_leaf': 35,\n",
      "                 'votingclassifier__gradientboostingclassifier__min_samples_split': 750,\n",
      "                 'votingclassifier__gradientboostingclassifier__n_estimators': 50,\n",
      "                 'votingclassifier__gradientboostingclassifier__random_state': 5,\n",
      "                 'votingclassifier__gradientboostingclassifier__subsample': 1.0,\n",
      "                 'votingclassifier__logisticregression__C': 1,\n",
      "                 'votingclassifier__logisticregression__class_weight': 'balanced',\n",
      "                 'votingclassifier__logisticregression__max_iter': 100,\n",
      "                 'votingclassifier__logisticregression__penalty': 'l2',\n",
      "                 'votingclassifier__logisticregression__solver': 'newton-cg',\n",
      "                 'votingclassifier__voting': 'soft',\n",
      "                 'votingclassifier__weights': [1, 1, 1]},\n",
      " 'mean_test_accuracy': 0.888,\n",
      " 'mean_test_roc_auc': 0.775}\n"
     ]
    }
   ],
   "source": [
    "get_results(gs)"
   ]
  },
  {
   "cell_type": "code",
   "execution_count": 49,
   "id": "neither-marsh",
   "metadata": {},
   "outputs": [],
   "source": [
    "predict(gs)"
   ]
  },
  {
   "cell_type": "code",
   "execution_count": 50,
   "id": "living-investigator",
   "metadata": {},
   "outputs": [],
   "source": [
    "save_model(gs)"
   ]
  },
  {
   "cell_type": "markdown",
   "id": "later-consortium",
   "metadata": {},
   "source": [
    "# Results"
   ]
  },
  {
   "cell_type": "code",
   "execution_count": 51,
   "id": "protecting-california",
   "metadata": {},
   "outputs": [
    {
     "data": {
      "text/html": [
       "<div>\n",
       "<style scoped>\n",
       "    .dataframe tbody tr th:only-of-type {\n",
       "        vertical-align: middle;\n",
       "    }\n",
       "\n",
       "    .dataframe tbody tr th {\n",
       "        vertical-align: top;\n",
       "    }\n",
       "\n",
       "    .dataframe thead th {\n",
       "        text-align: right;\n",
       "    }\n",
       "</style>\n",
       "<table border=\"1\" class=\"dataframe\">\n",
       "  <thead>\n",
       "    <tr style=\"text-align: right;\">\n",
       "      <th></th>\n",
       "      <th>mean_test_accuracy</th>\n",
       "      <th>mean_test_roc_auc</th>\n",
       "      <th>best_params</th>\n",
       "    </tr>\n",
       "  </thead>\n",
       "  <tbody>\n",
       "    <tr>\n",
       "      <th>tfidfvectorizer__gradientboostingclassifier</th>\n",
       "      <td>0.896</td>\n",
       "      <td>0.776</td>\n",
       "      <td>{'gradientboostingclassifier__learning_rate': 0.2, 'gradientboostingclassifier__max_depth': 5, 'gradientboostingclassifier__max_features': 60, 'gradientboostingclassifier__min_samples_leaf': 35, 'gradientboostingclassifier__min_samples_split': 750, 'gradientboostingclassifier__n_estimators': 50, 'gradientboostingclassifier__random_state': 5, 'gradientboostingclassifier__subsample': 1.0, 'tfidfvectorizer__analyzer': 'char', 'tfidfvectorizer__max_df': 1.0, 'tfidfvectorizer__max_features': 1000, 'tfidfvectorizer__ngram_range': (1, 2), 'tfidfvectorizer__preprocessor': None}</td>\n",
       "    </tr>\n",
       "    <tr>\n",
       "      <th>tfidfvectorizer__adaboostclassifier</th>\n",
       "      <td>0.896</td>\n",
       "      <td>0.775</td>\n",
       "      <td>{'adaboostclassifier__learning_rate': 0.1, 'adaboostclassifier__n_estimators': 145, 'adaboostclassifier__random_state': None, 'tfidfvectorizer__analyzer': 'char', 'tfidfvectorizer__max_df': 1.0, 'tfidfvectorizer__max_features': 1000, 'tfidfvectorizer__ngram_range': (1, 2), 'tfidfvectorizer__preprocessor': None}</td>\n",
       "    </tr>\n",
       "    <tr>\n",
       "      <th>tfidfvectorizer__votingclassifier</th>\n",
       "      <td>0.888</td>\n",
       "      <td>0.775</td>\n",
       "      <td>{'tfidfvectorizer__analyzer': 'char', 'tfidfvectorizer__max_df': 1.0, 'tfidfvectorizer__max_features': 1000, 'tfidfvectorizer__ngram_range': (1, 2), 'tfidfvectorizer__preprocessor': None, 'votingclassifier__adaboostclassifier__learning_rate': 0.1, 'votingclassifier__adaboostclassifier__n_estimators': 145, 'votingclassifier__adaboostclassifier__random_state': None, 'votingclassifier__gradientboostingclassifier__learning_rate': 0.2, 'votingclassifier__gradientboostingclassifier__max_depth': 5, 'votingclassifier__gradientboostingclassifier__max_features': 60, 'votingclassifier__gradientboostingclassifier__min_samples_leaf': 35, 'votingclassifier__gradientboostingclassifier__min_samples_split': 750, 'votingclassifier__gradientboostingclassifier__n_estimators': 50, 'votingclassifier__gradientboostingclassifier__random_state': 5, 'votingclassifier__gradientboostingclassifier__subsample': 1.0, 'votingclassifier__logisticregression__C': 1, 'votingclassifier__logisticregression__class_weight': 'balanced', 'votingclassifier__logisticregression__max_iter': 100, 'votingclassifier__logisticregression__penalty': 'l2', 'votingclassifier__logisticregression__solver': 'newton-cg', 'votingclassifier__voting': 'soft', 'votingclassifier__weights': [1, 1, 1]}</td>\n",
       "    </tr>\n",
       "    <tr>\n",
       "      <th>tfidfvectorizer__logisticregression</th>\n",
       "      <td>0.690</td>\n",
       "      <td>0.749</td>\n",
       "      <td>{'logisticregression__C': 1, 'logisticregression__class_weight': 'balanced', 'logisticregression__max_iter': 100, 'logisticregression__penalty': 'l2', 'logisticregression__solver': 'newton-cg', 'tfidfvectorizer__analyzer': 'char', 'tfidfvectorizer__max_df': 1.0, 'tfidfvectorizer__max_features': 1000, 'tfidfvectorizer__ngram_range': (1, 2), 'tfidfvectorizer__preprocessor': None}</td>\n",
       "    </tr>\n",
       "    <tr>\n",
       "      <th>tfidfvectorizer__probabilityclassifier</th>\n",
       "      <td>0.811</td>\n",
       "      <td>0.502</td>\n",
       "      <td>{}</td>\n",
       "    </tr>\n",
       "    <tr>\n",
       "      <th>tfidfvectorizer__mostcommonclassifier</th>\n",
       "      <td>0.896</td>\n",
       "      <td>0.500</td>\n",
       "      <td>{}</td>\n",
       "    </tr>\n",
       "  </tbody>\n",
       "</table>\n",
       "</div>"
      ],
      "text/plain": [
       "                                             mean_test_accuracy  \\\n",
       "tfidfvectorizer__gradientboostingclassifier               0.896   \n",
       "tfidfvectorizer__adaboostclassifier                       0.896   \n",
       "tfidfvectorizer__votingclassifier                         0.888   \n",
       "tfidfvectorizer__logisticregression                       0.690   \n",
       "tfidfvectorizer__probabilityclassifier                    0.811   \n",
       "tfidfvectorizer__mostcommonclassifier                     0.896   \n",
       "\n",
       "                                             mean_test_roc_auc  \\\n",
       "tfidfvectorizer__gradientboostingclassifier              0.776   \n",
       "tfidfvectorizer__adaboostclassifier                      0.775   \n",
       "tfidfvectorizer__votingclassifier                        0.775   \n",
       "tfidfvectorizer__logisticregression                      0.749   \n",
       "tfidfvectorizer__probabilityclassifier                   0.502   \n",
       "tfidfvectorizer__mostcommonclassifier                    0.500   \n",
       "\n",
       "                                                                                                                                                                                                                                                                                                                                                                                                                                                                                                                                                                                                                                                                                                                                                                                                                                                                                                                                                                                                                                                                                                                                                                                                                                                                                                                                            best_params  \n",
       "tfidfvectorizer__gradientboostingclassifier                                                                                                                                                                                                                                                                                                                                                                                                                                                                                                                                                                                                                                                                                                            {'gradientboostingclassifier__learning_rate': 0.2, 'gradientboostingclassifier__max_depth': 5, 'gradientboostingclassifier__max_features': 60, 'gradientboostingclassifier__min_samples_leaf': 35, 'gradientboostingclassifier__min_samples_split': 750, 'gradientboostingclassifier__n_estimators': 50, 'gradientboostingclassifier__random_state': 5, 'gradientboostingclassifier__subsample': 1.0, 'tfidfvectorizer__analyzer': 'char', 'tfidfvectorizer__max_df': 1.0, 'tfidfvectorizer__max_features': 1000, 'tfidfvectorizer__ngram_range': (1, 2), 'tfidfvectorizer__preprocessor': None}  \n",
       "tfidfvectorizer__adaboostclassifier                                                                                                                                                                                                                                                                                                                                                                                                                                                                                                                                                                                                                                                                                                                                                                                                                                                                                                                                                                                            {'adaboostclassifier__learning_rate': 0.1, 'adaboostclassifier__n_estimators': 145, 'adaboostclassifier__random_state': None, 'tfidfvectorizer__analyzer': 'char', 'tfidfvectorizer__max_df': 1.0, 'tfidfvectorizer__max_features': 1000, 'tfidfvectorizer__ngram_range': (1, 2), 'tfidfvectorizer__preprocessor': None}  \n",
       "tfidfvectorizer__votingclassifier            {'tfidfvectorizer__analyzer': 'char', 'tfidfvectorizer__max_df': 1.0, 'tfidfvectorizer__max_features': 1000, 'tfidfvectorizer__ngram_range': (1, 2), 'tfidfvectorizer__preprocessor': None, 'votingclassifier__adaboostclassifier__learning_rate': 0.1, 'votingclassifier__adaboostclassifier__n_estimators': 145, 'votingclassifier__adaboostclassifier__random_state': None, 'votingclassifier__gradientboostingclassifier__learning_rate': 0.2, 'votingclassifier__gradientboostingclassifier__max_depth': 5, 'votingclassifier__gradientboostingclassifier__max_features': 60, 'votingclassifier__gradientboostingclassifier__min_samples_leaf': 35, 'votingclassifier__gradientboostingclassifier__min_samples_split': 750, 'votingclassifier__gradientboostingclassifier__n_estimators': 50, 'votingclassifier__gradientboostingclassifier__random_state': 5, 'votingclassifier__gradientboostingclassifier__subsample': 1.0, 'votingclassifier__logisticregression__C': 1, 'votingclassifier__logisticregression__class_weight': 'balanced', 'votingclassifier__logisticregression__max_iter': 100, 'votingclassifier__logisticregression__penalty': 'l2', 'votingclassifier__logisticregression__solver': 'newton-cg', 'votingclassifier__voting': 'soft', 'votingclassifier__weights': [1, 1, 1]}  \n",
       "tfidfvectorizer__logisticregression                                                                                                                                                                                                                                                                                                                                                                                                                                                                                                                                                                                                                                                                                                                                                                                                                                                                                                                        {'logisticregression__C': 1, 'logisticregression__class_weight': 'balanced', 'logisticregression__max_iter': 100, 'logisticregression__penalty': 'l2', 'logisticregression__solver': 'newton-cg', 'tfidfvectorizer__analyzer': 'char', 'tfidfvectorizer__max_df': 1.0, 'tfidfvectorizer__max_features': 1000, 'tfidfvectorizer__ngram_range': (1, 2), 'tfidfvectorizer__preprocessor': None}  \n",
       "tfidfvectorizer__probabilityclassifier                                                                                                                                                                                                                                                                                                                                                                                                                                                                                                                                                                                                                                                                                                                                                                                                                                                                                                                                                                                                                                                                                                                                                                                                                                                                                                               {}  \n",
       "tfidfvectorizer__mostcommonclassifier                                                                                                                                                                                                                                                                                                                                                                                                                                                                                                                                                                                                                                                                                                                                                                                                                                                                                                                                                                                                                                                                                                                                                                                                                                                                                                                {}  "
      ]
     },
     "metadata": {},
     "output_type": "display_data"
    }
   ],
   "source": [
    "info = pd.DataFrame.from_dict(results, orient=\"index\").sort_values(by=\"mean_test_roc_auc\", ascending=False)\n",
    "display(info)"
   ]
  },
  {
   "cell_type": "markdown",
   "id": "crazy-andrew",
   "metadata": {},
   "source": [
    "# Uploading solution"
   ]
  },
  {
   "cell_type": "raw",
   "id": "prerequisite-cincinnati",
   "metadata": {},
   "source": [
    "with open('./models/tfidfvectorizer__logisticregression.pickle', 'rb') as f:\n",
    "    gs = pickle.load(f)"
   ]
  },
  {
   "cell_type": "markdown",
   "id": "chronic-techno",
   "metadata": {},
   "source": [
    "## Preprocessing"
   ]
  },
  {
   "cell_type": "raw",
   "id": "historical-press",
   "metadata": {},
   "source": [
    "questions = pd.read_csv(\"./data/data.csv\", delimiter=\";\")\n",
    "test = pd.read_csv(\"./data/test.csv\", delimiter=\";\")\n",
    "data = pd.merge(questions, test, on=\"ID\")"
   ]
  },
  {
   "cell_type": "raw",
   "id": "premier-brazilian",
   "metadata": {},
   "source": [
    "data"
   ]
  },
  {
   "cell_type": "raw",
   "id": "changing-warning",
   "metadata": {},
   "source": [
    "\n",
    "def get_preprocess_data(data):\n",
    "    \"\"\"\n",
    "    Args: \n",
    "        data - dataframe with columns [id, questions]\n",
    "    \"\"\"\n",
    "\n",
    "    X = pd.DataFrame(data)\n",
    "    no_expert_words = ['почему', 'будет', 'клевер', 'назовите', 'клевера', 'нельзя', 'нет', 'то', 'метро']\n",
    "    regex_tokenizer = nltk.RegexpTokenizer(\"\\w+\")\n",
    "    \n",
    "    def normalize_text(text):\n",
    "        # lowercase text\n",
    "        text = str(text).lower()\n",
    "        # remove non-UTF\n",
    "        text = text.encode(\"utf-8\", \"ignore\").decode()\n",
    "        # remove punktuation symbols\n",
    "        text = \" \".join(regex_tokenizer.tokenize(text))\n",
    "        return text\n",
    "    \n",
    "    questions = X.iloc[:, 1]\n",
    "    vals = questions.values\n",
    "    \n",
    "    end_question = []\n",
    "    fst_capital = []\n",
    "    no_expert_eto = []\n",
    "    special_signs = []\n",
    "    good_special_words= []\n",
    "    not_enough_words = []\n",
    "    no_expert = []\n",
    "    bad_comma = []\n",
    "    letters=[]\n",
    "    \n",
    "    for i in tqdm(range(len(vals))):\n",
    "        x = vals[i]\n",
    "        end_question.append(int(bool(re.search(r'.*?\\?$', x))))\n",
    "        fst_capital.append(int(bool(re.search(r'^[А-Я]', x))))\n",
    "        no_expert_eto.append(int(bool(re.search(r'(\\- это|[^\\–] это)[^а-яА-Я]', x))))\n",
    "        special_signs.append(int(bool(re.search(r'([\\'?_:$!%^&*+\\\"”<>]|\\.{1,}|,{2,}).*?\\?$', x))))\n",
    "        good_special_words.append(int(bool(re.search(r'[а-яА-Яa-zA-Z]\\.|\\'[а-яА-Яa-zA-Z]|[a-zA-Z]+:\\s?[a-zA-Z+|«.*»', x))))\n",
    "        not_enough_words.append(int(bool(re.search(r'([а-яА-Яa-zA-Z]+[\\s]?){6,}', x)))) \n",
    "        bad_comma.append(int(not bool(re.search(r'[а-яА-Яa-zA-Z]+\\, [а-яА-Яa-zA-Z]+', x)))*int(',' in x))\n",
    "        \n",
    "        \n",
    "        letters.append(int(bool(re.search(r'^[^КВИСЧГНПУМОЗДРАФЕЛБ]', x))))\n",
    "        normal_x = normalize_text(x)\n",
    "        no_expert.append(int(bool(any(w in normal_x.split() for w in no_expert_words[:6])))) \n",
    "     \n",
    "    X['end_question'] = pd.Series(end_question)\n",
    "    X['fst_capital'] = pd.Series(fst_capital)\n",
    "    X['no_expert_eto'] = pd.Series(no_expert_eto)\n",
    "    X['special_signs'] = pd.Series(special_signs)\n",
    "    X['good_special_words'] = pd.Series(good_special_words)\n",
    "    X['not_enough_words'] = pd.Series(not_enough_words)\n",
    "    X['no_expert'] = pd.Series(no_expert)\n",
    "    X['bad_comma'] = pd.Series(bad_comma)\n",
    "    X['letters'] = pd.Series(letters)\n",
    "    \n",
    "    X.drop(X[X['end_question'] == 0].index, inplace=True)\n",
    "    \n",
    "    #X.drop(X[X['letters'] == 1].index, inplace=True)\n",
    "    \n",
    "    X.drop(X[X['fst_capital'] == 0].index, inplace=True)\n",
    "    X.drop(X[(X['special_signs'] == 1) & (X['good_special_words'] == 0)].index, inplace=True)\n",
    "    X.drop(X[X['bad_comma'] == 1].index, inplace=True)\n",
    "    X.drop(X[X['no_expert_eto'] == 1].index, inplace=True)\n",
    "    X.drop(X[X['not_enough_words'] == 0].index, inplace=True)\n",
    "    X.drop(X[X['no_expert'] == 1].index, inplace=True)\n",
    "    \n",
    "    #X['Question'] = list(map(normalize_text, X['Question']))\n",
    "    non_labeled_data = X[['ID', 'Question']]\n",
    "    \n",
    "    labeled_data = data[~data['ID'].isin(non_labeled_data['ID'])][['ID', 'Question']]\n",
    "    labeled_data['Answer'] = list(map(int, np.zeros(labeled_data.shape[0])))\n",
    "\n",
    "    return non_labeled_data, labeled_data\n",
    "    "
   ]
  },
  {
   "cell_type": "raw",
   "id": "excited-numbers",
   "metadata": {},
   "source": [
    "non_labeled_data, labeled_data = get_preprocess_data(data)"
   ]
  },
  {
   "cell_type": "raw",
   "id": "coordinate-secret",
   "metadata": {},
   "source": [
    "prediction = gs.predict_proba(list(non_labeled_data[\"Question\"]))[:, 1]\n",
    "non_labeled_data[\"prediction\"] = prediction"
   ]
  },
  {
   "cell_type": "raw",
   "id": "hindu-rendering",
   "metadata": {},
   "source": [
    "non_labeled_data[\"Answer\"] = non_labeled_data[\"prediction\"]"
   ]
  },
  {
   "cell_type": "raw",
   "id": "ruled-mouth",
   "metadata": {},
   "source": [
    "res = non_labeled_data.append(labeled_data).sort_values(by=\"ID\")\n",
    "res[[\"ID\", \"Answer\"]].to_csv(\"./output/on_preprocessed.csv\", index=False, header=False)"
   ]
  }
 ],
 "metadata": {
  "kernelspec": {
   "display_name": "Python 3",
   "language": "python",
   "name": "python3"
  },
  "language_info": {
   "codemirror_mode": {
    "name": "ipython",
    "version": 3
   },
   "file_extension": ".py",
   "mimetype": "text/x-python",
   "name": "python",
   "nbconvert_exporter": "python",
   "pygments_lexer": "ipython3",
   "version": "3.9.2"
  },
  "toc": {
   "base_numbering": 1,
   "nav_menu": {},
   "number_sections": true,
   "sideBar": true,
   "skip_h1_title": false,
   "title_cell": "Table of Contents",
   "title_sidebar": "Contents",
   "toc_cell": false,
   "toc_position": {
    "height": "calc(100% - 180px)",
    "left": "10px",
    "top": "150px",
    "width": "383.188px"
   },
   "toc_section_display": true,
   "toc_window_display": true
  }
 },
 "nbformat": 4,
 "nbformat_minor": 5
}
